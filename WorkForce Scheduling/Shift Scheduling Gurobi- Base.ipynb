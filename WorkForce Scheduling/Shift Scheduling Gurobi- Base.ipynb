{
 "cells": [
  {
   "cell_type": "markdown",
   "metadata": {},
   "source": [
    "# WorkForce Scheduling Problem\n",
    "https://www.math.vu.nl/~sbhulai/papers/thesis-dano.pdf"
   ]
  },
  {
   "cell_type": "markdown",
   "metadata": {},
   "source": []
  },
  {
   "cell_type": "code",
   "execution_count": null,
   "metadata": {},
   "outputs": [],
   "source": [
    "import pandas as pd\n",
    "import numpy as np\n",
    "from gurobipy import *\n",
    "import matplotlib.pyplot as plt"
   ]
  },
  {
   "cell_type": "markdown",
   "metadata": {},
   "source": [
    "# Subíndices\n",
    "i=trabajador\n",
    "\n",
    "t=turno\n",
    "\n",
    "k=gerente\n",
    "\n",
    "\n",
    "# Parámetros\n",
    "\n",
    "$Ntrab_{t}$= Numero de trabajadores requeridos en el turno $t$\n",
    "\n",
    "$TurnoCost_{i}$= Costo por cada turno realizado por el trabajador $i$\n",
    "\n",
    "$disponibilidad_{it}=$ si el trabajador $i$ esta disponible durante el turno $t$\n",
    "\n",
    "minTurnos= El mínimo de turnos que cada trabajador debe realizar\n",
    "minTurnos= El máximo de turnos que cada trabajador puede realizar"
   ]
  },
  {
   "cell_type": "code",
   "execution_count": null,
   "metadata": {},
   "outputs": [],
   "source": [
    "turnos = ['Monday1','Monday2','Tuesday1','Tuesday2','Wednesday1','Wednesday2'\n",
    "             ,'Thursday1','Thursday2','Friday1','Friday2','Saturday1','Saturday2','Sunday1','Sunday2']\n",
    "trabajadores=[\"Ana\",\"Benjamin\",\"Chayanne\",\"Manuel\",\"Luis Miguel\",\"Carlos\",\"Saul\",\"Matias\",\"Liliana\",\"Constanza\"]\n",
    "Ntrab = {'Monday1':3, 'Monday2':2,'Tuesday1':4,'Tuesday2':4,'Wednesday1':5,'Wednesday2':4\n",
    "             ,'Thursday1':5,'Thursday2':4,'Friday1':2,'Friday2':4,'Saturday1':5,'Saturday2':4,'Sunday1':3,'Sunday2':5}\n",
    "disponibilidad = {(i,t):1 for i in trabajadores for t in turnos}\n",
    "# For illustration, assume following people are unavailable: EE02 on Tuesday1, EE05 on Saturday2, EE08 on Thursday1\n",
    "disponibilidad[\"Benjamin\",'Tuesday1'] = 0\n",
    "disponibilidad[\"Matias\",'Monday1'] = 0\n",
    "disponibilidad[\"Luis Miguel\",'Saturday2'] = 0\n",
    "disponibilidad[\"Constanza\",'Thursday1'] = 0\n",
    "Gerentes = [\"Ana\",\"Chayanne\",\"Luis Miguel\",\"Saul\"]\n",
    "TurnoCost = {\"Ana\":200,\"Benjamin\":100,\"Chayanne\":225,\"Manuel\":110,\n",
    "\"Luis Miguel\":190,\"Carlos\":105,\"Saul\":210,\"Matias\":120,\"Liliana\":95,\"Constanza\":100}\n",
    "minTurnos = 3\n",
    "maxTurnos = 7\n"
   ]
  },
  {
   "cell_type": "code",
   "execution_count": null,
   "metadata": {},
   "outputs": [],
   "source": []
  },
  {
   "cell_type": "markdown",
   "metadata": {},
   "source": [
    "# Variables de decisión\n",
    "\n",
    "$X_{it}$= Si el trabajador i esta disponible en el turno t\n",
    "\n"
   ]
  },
  {
   "cell_type": "code",
   "execution_count": null,
   "metadata": {},
   "outputs": [],
   "source": []
  },
  {
   "cell_type": "markdown",
   "metadata": {},
   "source": [
    "# Función Objetivo\n",
    "\n",
    "$ Min Z= \\sum_{\\forall{i,j}} X_{ij}*costoTurno_i$"
   ]
  },
  {
   "cell_type": "code",
   "execution_count": null,
   "metadata": {},
   "outputs": [],
   "source": []
  },
  {
   "cell_type": "markdown",
   "metadata": {},
   "source": [
    "# Restricciones\n",
    "\n",
    "Trabajadores requeridos:\n",
    "\n",
    "$\\sum_{\\forall{i}} disponibilidad_{it}*x_{it}>= Ntrab[t] \\forall t$\n",
    "\n",
    "Mínimo de turnos:\n",
    "\n",
    "$\\sum_{\\forall{t}}x_{it}>= minTurnos \\forall i$\n",
    "\n",
    "Máximo de turnos:\n",
    "\n",
    "$\\sum_{\\forall{t}}x_{it}<= maxTurnos \\forall i$\n",
    "\n",
    "Al menos un gerente por turno:\n",
    "\n",
    "$\\sum_{\\forall{j}} x_{it}>= 1 \\forall t$"
   ]
  },
  {
   "cell_type": "code",
   "execution_count": null,
   "metadata": {},
   "outputs": [],
   "source": []
  },
  {
   "cell_type": "code",
   "execution_count": null,
   "metadata": {},
   "outputs": [],
   "source": []
  },
  {
   "cell_type": "code",
   "execution_count": null,
   "metadata": {},
   "outputs": [],
   "source": []
  },
  {
   "cell_type": "code",
   "execution_count": null,
   "metadata": {},
   "outputs": [],
   "source": []
  },
  {
   "cell_type": "code",
   "execution_count": null,
   "metadata": {},
   "outputs": [],
   "source": []
  },
  {
   "cell_type": "markdown",
   "metadata": {},
   "source": [
    "# Solución"
   ]
  },
  {
   "cell_type": "code",
   "execution_count": null,
   "metadata": {},
   "outputs": [],
   "source": []
  },
  {
   "cell_type": "code",
   "execution_count": null,
   "metadata": {},
   "outputs": [],
   "source": [
    "\n"
   ]
  }
 ],
 "metadata": {
  "interpreter": {
   "hash": "b3ba2566441a7c06988d0923437866b63cedc61552a5af99d1f4fb67d367b25f"
  },
  "kernelspec": {
   "display_name": "Python 3.8.8 64-bit ('base': conda)",
   "name": "python3"
  },
  "language_info": {
   "codemirror_mode": {
    "name": "ipython",
    "version": 3
   },
   "file_extension": ".py",
   "mimetype": "text/x-python",
   "name": "python",
   "nbconvert_exporter": "python",
   "pygments_lexer": "ipython3",
   "version": "3.8.8"
  }
 },
 "nbformat": 4,
 "nbformat_minor": 2
}
