{
 "cells": [
  {
   "cell_type": "markdown",
   "metadata": {},
   "source": [
    "# WorkForce Scheduling Problem\n",
    "https://www.math.vu.nl/~sbhulai/papers/thesis-dano.pdf"
   ]
  },
  {
   "cell_type": "code",
   "execution_count": 1,
   "metadata": {},
   "outputs": [],
   "source": [
    "import pandas as pd\n",
    "import numpy as np\n",
    "from gurobipy import *\n",
    "import matplotlib.pyplot as plt"
   ]
  },
  {
   "cell_type": "markdown",
   "metadata": {},
   "source": [
    "# Subíndices\n",
    "i=turno\n",
    "\n",
    "t=día\n",
    "\n",
    "\n",
    "# Parámetros\n",
    "\n",
    "$Ntrab_{t}$= Numero de trabajadores requeridos en el periodo $t$\n",
    "\n",
    "$costoTurno_{i}$= Costo por cada trabajador que trabaje según el sistema de turnos $i$\n"
   ]
  },
  {
   "cell_type": "markdown",
   "metadata": {},
   "source": [
    "\n",
    "\\{\\begin{array}{lcc} 1: si el turno i esta disponible durante el periodo t\\\\ 0: D.O.M.\n",
    "\\end{array}\n"
   ]
  },
  {
   "cell_type": "markdown",
   "metadata": {},
   "source": [
    "f(x)= \\{ \\begin{array}{lcc}\n",
    "             5 &   si  & x \\leq 2 \\\\\n",
    "             \\\\ x^2-6x+10 &  si & 2 < x < 5 \\\\\n",
    "             \\\\ 4x-15 &  si  & x \\geq 5\n",
    "             \\end{array}\n",
    "\n"
   ]
  },
  {
   "cell_type": "code",
   "execution_count": 8,
   "metadata": {},
   "outputs": [],
   "source": [
    "dias = [1,2,3,4,5,6,7,8,9,10]\n",
    "turnos=[\"A\",\"B\",\"C\",\"D\",\"E\"]\n",
    "costo_turno = {\"A\":7, \"B\":6, \"C\":7.5, \"D\":8, \"E\":9.5}\n",
    "Ntrab = {1:48, 2:79, 3:65, 4:87, 5:64, 6:73, 7:82, 8:43, 9:52, 10:15}\n",
    "dispTurno={('A', 1): 1,\n",
    " ('B', 1): 0,\n",
    " ('C', 1): 0,\n",
    " ('D', 1): 0,\n",
    " ('E', 1): 0,\n",
    " ('A', 2): 1,\n",
    " ('B', 2): 1,\n",
    " ('C', 2): 0,\n",
    " ('D', 2): 0,\n",
    " ('E', 2): 0,\n",
    " ('A', 3): 1,\n",
    " ('B', 3): 1,\n",
    " ('C', 3): 0,\n",
    " ('D', 3): 0,\n",
    " ('E', 3): 0,\n",
    " ('A', 4): 1,\n",
    " ('B', 4): 1,\n",
    " ('C', 4): 1,\n",
    " ('D', 4): 0,\n",
    " ('E', 4): 0,\n",
    " ('A', 5): 0,\n",
    " ('B', 5): 1,\n",
    " ('C', 5): 1,\n",
    " ('D', 5): 0,\n",
    " ('E', 5): 0,\n",
    " ('A', 6): 0,\n",
    " ('B', 6): 0,\n",
    " ('C', 6): 1,\n",
    " ('D', 6): 1,\n",
    " ('E', 6): 0,\n",
    " ('A', 7): 0,\n",
    " ('B', 7): 0,\n",
    " ('C', 7): 1,\n",
    " ('D', 7): 1,\n",
    " ('E', 7): 0,\n",
    " ('A', 8): 0,\n",
    " ('B', 8): 0,\n",
    " ('C', 8): 0,\n",
    " ('D', 8): 1,\n",
    " ('E', 8): 0,\n",
    " ('A', 9): 0,\n",
    " ('B', 9): 0,\n",
    " ('C', 9): 0,\n",
    " ('D', 9): 1,\n",
    " ('E', 9): 1,\n",
    " ('A', 10): 0,\n",
    " ('B', 10): 0,\n",
    " ('C', 10): 0,\n",
    " ('D', 10): 0,\n",
    " ('E', 10): 1}"
   ]
  },
  {
   "cell_type": "code",
   "execution_count": 8,
   "metadata": {},
   "outputs": [
    {
     "data": {
      "text/plain": [
       "{('A', 1): 1,\n",
       " ('B', 1): 0,\n",
       " ('C', 1): 0,\n",
       " ('D', 1): 0,\n",
       " ('E', 1): 0,\n",
       " ('A', 2): 1,\n",
       " ('B', 2): 1,\n",
       " ('C', 2): 0,\n",
       " ('D', 2): 0,\n",
       " ('E', 2): 0,\n",
       " ('A', 3): 1,\n",
       " ('B', 3): 1,\n",
       " ('C', 3): 0,\n",
       " ('D', 3): 0,\n",
       " ('E', 3): 0,\n",
       " ('A', 4): 1,\n",
       " ('B', 4): 1,\n",
       " ('C', 4): 1,\n",
       " ('D', 4): 0,\n",
       " ('E', 4): 0,\n",
       " ('A', 5): 0,\n",
       " ('B', 5): 1,\n",
       " ('C', 5): 1,\n",
       " ('D', 5): 0,\n",
       " ('E', 5): 0,\n",
       " ('A', 6): 0,\n",
       " ('B', 6): 0,\n",
       " ('C', 6): 1,\n",
       " ('D', 6): 1,\n",
       " ('E', 6): 0,\n",
       " ('A', 7): 0,\n",
       " ('B', 7): 0,\n",
       " ('C', 7): 1,\n",
       " ('D', 7): 1,\n",
       " ('E', 7): 0,\n",
       " ('A', 8): 0,\n",
       " ('B', 8): 0,\n",
       " ('C', 8): 0,\n",
       " ('D', 8): 1,\n",
       " ('E', 8): 0,\n",
       " ('A', 9): 0,\n",
       " ('B', 9): 0,\n",
       " ('C', 9): 0,\n",
       " ('D', 9): 1,\n",
       " ('E', 9): 1,\n",
       " ('A', 10): 0,\n",
       " ('B', 10): 0,\n",
       " ('C', 10): 0,\n",
       " ('D', 10): 0,\n",
       " ('E', 10): 1}"
      ]
     },
     "execution_count": 8,
     "metadata": {},
     "output_type": "execute_result"
    }
   ],
   "source": [
    "dict={}\n",
    "for a in range(len(dias)):\n",
    "    for b in range(len(turnos)):\n",
    "        dict[(turnos[b],dias[a])]=table[a][b]\n",
    "dict"
   ]
  },
  {
   "cell_type": "code",
   "execution_count": null,
   "metadata": {},
   "outputs": [],
   "source": [
    "m=Model(\"Workforce Scheduling\")"
   ]
  },
  {
   "cell_type": "code",
   "execution_count": null,
   "metadata": {},
   "outputs": [],
   "source": []
  },
  {
   "cell_type": "code",
   "execution_count": null,
   "metadata": {},
   "outputs": [],
   "source": []
  },
  {
   "cell_type": "code",
   "execution_count": null,
   "metadata": {},
   "outputs": [],
   "source": []
  },
  {
   "cell_type": "code",
   "execution_count": null,
   "metadata": {},
   "outputs": [],
   "source": []
  },
  {
   "cell_type": "markdown",
   "metadata": {},
   "source": [
    "# References \n",
    "Dantzig, G. B. A comment on Edie’s traffic delays at toll booth. Operations\n",
    "Research vol. 2(3) (1954), pp. 339–341."
   ]
  }
 ],
 "metadata": {
  "interpreter": {
   "hash": "b3ba2566441a7c06988d0923437866b63cedc61552a5af99d1f4fb67d367b25f"
  },
  "kernelspec": {
   "display_name": "Python 3",
   "language": "python",
   "name": "python3"
  },
  "language_info": {
   "codemirror_mode": {
    "name": "ipython",
    "version": 3
   },
   "file_extension": ".py",
   "mimetype": "text/x-python",
   "name": "python",
   "nbconvert_exporter": "python",
   "pygments_lexer": "ipython3",
   "version": "3.8.8"
  }
 },
 "nbformat": 4,
 "nbformat_minor": 2
}
