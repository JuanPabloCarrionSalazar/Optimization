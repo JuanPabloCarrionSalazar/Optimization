{
 "cells": [
  {
   "cell_type": "markdown",
   "metadata": {},
   "source": [
    "# Shift Scheduling Problem\n",
    "https://www.math.vu.nl/~sbhulai/papers/thesis-dano.pdf"
   ]
  },
  {
   "cell_type": "markdown",
   "metadata": {},
   "source": []
  },
  {
   "cell_type": "code",
   "execution_count": 1,
   "metadata": {},
   "outputs": [],
   "source": [
    "import pandas as pd\n",
    "import numpy as np\n",
    "from gurobipy import *\n",
    "import matplotlib.pyplot as plt"
   ]
  },
  {
   "cell_type": "markdown",
   "metadata": {},
   "source": [
    "# Subíndices\n",
    "i=trabajador\n",
    "\n",
    "t=turno\n",
    "\n",
    "k=gerente\n",
    "\n",
    "\n",
    "# Parámetros\n",
    "\n",
    "$Ntrab_{t}$= Numero de trabajadores requeridos en el turno $t$\n",
    "\n",
    "$TurnoCost_{i}$= Costo por cada turno realizado por el trabajador $i$\n",
    "\n",
    "$disponibilidad_{it}=$ si el trabajador $i$ esta disponible durante el turno $t$\n",
    "\n",
    "minTurnos= El mínimo de turnos que cada trabajador debe realizar\n",
    "minTurnos= El máximo de turnos que cada trabajador puede realizar"
   ]
  },
  {
   "cell_type": "code",
   "execution_count": 2,
   "metadata": {},
   "outputs": [],
   "source": [
    "turnos = ['Monday1','Monday2','Tuesday1','Tuesday2','Wednesday1','Wednesday2'\n",
    "             ,'Thursday1','Thursday2','Friday1','Friday2','Saturday1','Saturday2','Sunday1','Sunday2']\n",
    "trabajadores=[\"Ana\",\"Benjamin\",\"Chayanne\",\"Manuel\",\"Luis Miguel\",\"Carlos\",\"Saul\",\"Matias\",\"Liliana\",\"Constanza\"]\n",
    "Ntrab = {'Monday1':3, 'Monday2':2,'Tuesday1':4,'Tuesday2':4,'Wednesday1':5,'Wednesday2':4\n",
    "             ,'Thursday1':5,'Thursday2':4,'Friday1':2,'Friday2':4,'Saturday1':5,'Saturday2':4,'Sunday1':3,'Sunday2':5}\n",
    "disponibilidad = {(i,t):1 for i in trabajadores for t in turnos}\n",
    "# For illustration, assume following people are unavailable: EE02 on Tuesday1, EE05 on Saturday2, EE08 on Thursday1\n",
    "disponibilidad[\"Benjamin\",'Tuesday1'] = 0\n",
    "disponibilidad[\"Matias\",'Monday1'] = 0\n",
    "disponibilidad[\"Luis Miguel\",'Saturday2'] = 0\n",
    "disponibilidad[\"Constanza\",'Thursday1'] = 0\n",
    "Gerentes = [\"Ana\",\"Chayanne\",\"Luis Miguel\",\"Saul\"]\n",
    "TurnoCost = {\"Ana\":200,\"Benjamin\":100,\"Chayanne\":225,\"Manuel\":110,\n",
    "\"Luis Miguel\":190,\"Carlos\":105,\"Saul\":210,\"Matias\":120,\"Liliana\":95,\"Constanza\":100}\n",
    "minTurnos = 3\n",
    "maxTurnos = 7\n"
   ]
  },
  {
   "cell_type": "code",
   "execution_count": 3,
   "metadata": {},
   "outputs": [
    {
     "name": "stdout",
     "output_type": "stream",
     "text": [
      "Academic license - for non-commercial use only - expires 2021-11-29\n",
      "Using license file C:\\Users\\pablo\\gurobi.lic\n"
     ]
    }
   ],
   "source": [
    "m=Model(\"Workforce Scheduling\")"
   ]
  },
  {
   "cell_type": "markdown",
   "metadata": {},
   "source": [
    "# Variables de decisión\n",
    "\n",
    "$X_{it}$= Si el trabajador i esta disponible en el turno t\n",
    "\n"
   ]
  },
  {
   "cell_type": "code",
   "execution_count": 4,
   "metadata": {},
   "outputs": [],
   "source": [
    "x=m.addVars(trabajadores,turnos,name='x',vtype=GRB.BINARY)"
   ]
  },
  {
   "cell_type": "markdown",
   "metadata": {},
   "source": [
    "# Función Objetivo\n",
    "\n",
    "$ Min Z= \\sum_{\\forall{i,j}} X_{ij}*costoTurno_i$"
   ]
  },
  {
   "cell_type": "code",
   "execution_count": 5,
   "metadata": {},
   "outputs": [],
   "source": [
    "z=quicksum(x[i,t]*TurnoCost[i] for i in trabajadores for t in turnos)\n",
    "m.setObjective(z,GRB.MINIMIZE)"
   ]
  },
  {
   "cell_type": "markdown",
   "metadata": {},
   "source": [
    "# Restricciones\n",
    "\n",
    "Trabajadores requeridos:\n",
    "\n",
    "$\\sum_{\\forall{i}} disponibilidad_{it}*x_{it}>= Ntrab[t] \\forall t$\n",
    "\n",
    "Mínimo de turnos:\n",
    "\n",
    "$\\sum_{\\forall{t}}x_{it}>= minTurnos \\forall i$\n",
    "\n",
    "Máximo de turnos:\n",
    "\n",
    "$\\sum_{\\forall{t}}x_{it}<= maxTurnos \\forall i$\n",
    "\n",
    "Al menos un gerente por turno:\n",
    "\n",
    "$\\sum_{\\forall{j}} x_{it}>= 1 \\forall t$"
   ]
  },
  {
   "cell_type": "code",
   "execution_count": 6,
   "metadata": {},
   "outputs": [
    {
     "data": {
      "text/plain": [
       "{'Monday1': <gurobi.Constr *Awaiting Model Update*>,\n",
       " 'Monday2': <gurobi.Constr *Awaiting Model Update*>,\n",
       " 'Tuesday1': <gurobi.Constr *Awaiting Model Update*>,\n",
       " 'Tuesday2': <gurobi.Constr *Awaiting Model Update*>,\n",
       " 'Wednesday1': <gurobi.Constr *Awaiting Model Update*>,\n",
       " 'Wednesday2': <gurobi.Constr *Awaiting Model Update*>,\n",
       " 'Thursday1': <gurobi.Constr *Awaiting Model Update*>,\n",
       " 'Thursday2': <gurobi.Constr *Awaiting Model Update*>,\n",
       " 'Friday1': <gurobi.Constr *Awaiting Model Update*>,\n",
       " 'Friday2': <gurobi.Constr *Awaiting Model Update*>,\n",
       " 'Saturday1': <gurobi.Constr *Awaiting Model Update*>,\n",
       " 'Saturday2': <gurobi.Constr *Awaiting Model Update*>,\n",
       " 'Sunday1': <gurobi.Constr *Awaiting Model Update*>,\n",
       " 'Sunday2': <gurobi.Constr *Awaiting Model Update*>}"
      ]
     },
     "execution_count": 6,
     "metadata": {},
     "output_type": "execute_result"
    }
   ],
   "source": [
    "m.addConstrs(quicksum(disponibilidad[i,t]*x[i,t] for i in trabajadores)>=Ntrab[t] for t in turnos)"
   ]
  },
  {
   "cell_type": "code",
   "execution_count": 7,
   "metadata": {},
   "outputs": [
    {
     "data": {
      "text/plain": [
       "{'Monday1': <gurobi.Constr *Awaiting Model Update*>,\n",
       " 'Monday2': <gurobi.Constr *Awaiting Model Update*>,\n",
       " 'Tuesday1': <gurobi.Constr *Awaiting Model Update*>,\n",
       " 'Tuesday2': <gurobi.Constr *Awaiting Model Update*>,\n",
       " 'Wednesday1': <gurobi.Constr *Awaiting Model Update*>,\n",
       " 'Wednesday2': <gurobi.Constr *Awaiting Model Update*>,\n",
       " 'Thursday1': <gurobi.Constr *Awaiting Model Update*>,\n",
       " 'Thursday2': <gurobi.Constr *Awaiting Model Update*>,\n",
       " 'Friday1': <gurobi.Constr *Awaiting Model Update*>,\n",
       " 'Friday2': <gurobi.Constr *Awaiting Model Update*>,\n",
       " 'Saturday1': <gurobi.Constr *Awaiting Model Update*>,\n",
       " 'Saturday2': <gurobi.Constr *Awaiting Model Update*>,\n",
       " 'Sunday1': <gurobi.Constr *Awaiting Model Update*>,\n",
       " 'Sunday2': <gurobi.Constr *Awaiting Model Update*>}"
      ]
     },
     "execution_count": 7,
     "metadata": {},
     "output_type": "execute_result"
    }
   ],
   "source": [
    "m.addConstrs(quicksum(x[j,t] for j in Gerentes)>=1  for t in turnos)"
   ]
  },
  {
   "cell_type": "code",
   "execution_count": 8,
   "metadata": {},
   "outputs": [
    {
     "data": {
      "text/plain": [
       "{'Ana': <gurobi.Constr *Awaiting Model Update*>,\n",
       " 'Benjamin': <gurobi.Constr *Awaiting Model Update*>,\n",
       " 'Chayanne': <gurobi.Constr *Awaiting Model Update*>,\n",
       " 'Manuel': <gurobi.Constr *Awaiting Model Update*>,\n",
       " 'Luis Miguel': <gurobi.Constr *Awaiting Model Update*>,\n",
       " 'Carlos': <gurobi.Constr *Awaiting Model Update*>,\n",
       " 'Saul': <gurobi.Constr *Awaiting Model Update*>,\n",
       " 'Matias': <gurobi.Constr *Awaiting Model Update*>,\n",
       " 'Liliana': <gurobi.Constr *Awaiting Model Update*>,\n",
       " 'Constanza': <gurobi.Constr *Awaiting Model Update*>}"
      ]
     },
     "execution_count": 8,
     "metadata": {},
     "output_type": "execute_result"
    }
   ],
   "source": [
    "m.addConstrs(quicksum(x[i,t] for t in turnos )>=minTurnos  for i in trabajadores)"
   ]
  },
  {
   "cell_type": "code",
   "execution_count": 9,
   "metadata": {},
   "outputs": [
    {
     "data": {
      "text/plain": [
       "{'Ana': <gurobi.Constr *Awaiting Model Update*>,\n",
       " 'Benjamin': <gurobi.Constr *Awaiting Model Update*>,\n",
       " 'Chayanne': <gurobi.Constr *Awaiting Model Update*>,\n",
       " 'Manuel': <gurobi.Constr *Awaiting Model Update*>,\n",
       " 'Luis Miguel': <gurobi.Constr *Awaiting Model Update*>,\n",
       " 'Carlos': <gurobi.Constr *Awaiting Model Update*>,\n",
       " 'Saul': <gurobi.Constr *Awaiting Model Update*>,\n",
       " 'Matias': <gurobi.Constr *Awaiting Model Update*>,\n",
       " 'Liliana': <gurobi.Constr *Awaiting Model Update*>,\n",
       " 'Constanza': <gurobi.Constr *Awaiting Model Update*>}"
      ]
     },
     "execution_count": 9,
     "metadata": {},
     "output_type": "execute_result"
    }
   ],
   "source": [
    "m.addConstrs(quicksum(x[i,t] for t in turnos )<=maxTurnos  for i in trabajadores)"
   ]
  },
  {
   "cell_type": "code",
   "execution_count": 10,
   "metadata": {},
   "outputs": [
    {
     "name": "stdout",
     "output_type": "stream",
     "text": [
      "Gurobi Optimizer version 9.1.2 build v9.1.2rc0 (win64)\n",
      "Thread count: 8 physical cores, 16 logical processors, using up to 16 threads\n",
      "Optimize a model with 48 rows, 140 columns and 472 nonzeros\n",
      "Model fingerprint: 0x272dd970\n",
      "Variable types: 0 continuous, 140 integer (140 binary)\n",
      "Coefficient statistics:\n",
      "  Matrix range     [1e+00, 1e+00]\n",
      "  Objective range  [1e+02, 2e+02]\n",
      "  Bounds range     [1e+00, 1e+00]\n",
      "  RHS range        [1e+00, 7e+00]\n",
      "Found heuristic solution: objective 7730.0000000\n",
      "Presolve time: 0.00s\n",
      "Presolved: 48 rows, 140 columns, 472 nonzeros\n",
      "Variable types: 0 continuous, 140 integer (140 binary)\n",
      "\n",
      "Root relaxation: objective 7.025000e+03, 100 iterations, 0.00 seconds\n",
      "\n",
      "    Nodes    |    Current Node    |     Objective Bounds      |     Work\n",
      " Expl Unexpl |  Obj  Depth IntInf | Incumbent    BestBd   Gap | It/Node Time\n",
      "\n",
      "*    0     0               0    7025.0000000 7025.00000  0.00%     -    0s\n",
      "\n",
      "Explored 0 nodes (100 simplex iterations) in 0.01 seconds\n",
      "Thread count was 16 (of 16 available processors)\n",
      "\n",
      "Solution count 2: 7025 7730 \n",
      "\n",
      "Optimal solution found (tolerance 1.00e-04)\n",
      "Best objective 7.025000000000e+03, best bound 7.025000000000e+03, gap 0.0000%\n"
     ]
    }
   ],
   "source": [
    "m.optimize()"
   ]
  },
  {
   "cell_type": "markdown",
   "metadata": {},
   "source": [
    "# Solución"
   ]
  },
  {
   "cell_type": "code",
   "execution_count": 11,
   "metadata": {},
   "outputs": [
    {
     "name": "stdout",
     "output_type": "stream",
     "text": [
      "Función Objetivo:  7025.0\n",
      "x[Ana,Friday2]=1.0\n",
      "x[Ana,Saturday2]=1.0\n",
      "x[Ana,Sunday1]=1.0\n",
      "x[Benjamin,Wednesday2]=1.0\n",
      "x[Benjamin,Thursday2]=1.0\n",
      "x[Benjamin,Friday1]=1.0\n",
      "x[Benjamin,Friday2]=1.0\n",
      "x[Benjamin,Saturday1]=1.0\n",
      "x[Benjamin,Saturday2]=1.0\n",
      "x[Benjamin,Sunday1]=1.0\n",
      "x[Chayanne,Wednesday2]=1.0\n",
      "x[Chayanne,Thursday1]=1.0\n",
      "x[Chayanne,Sunday2]=1.0\n",
      "x[Manuel,Monday1]=1.0\n",
      "x[Manuel,Monday2]=1.0\n",
      "x[Manuel,Tuesday1]=1.0\n",
      "x[Manuel,Tuesday2]=1.0\n",
      "x[Manuel,Wednesday2]=1.0\n",
      "x[Manuel,Thursday1]=1.0\n",
      "x[Manuel,Saturday1]=1.0\n",
      "x[Luis Miguel,Monday1]=1.0\n",
      "x[Luis Miguel,Tuesday1]=1.0\n",
      "x[Luis Miguel,Wednesday1]=1.0\n",
      "x[Luis Miguel,Friday1]=1.0\n",
      "x[Luis Miguel,Saturday1]=1.0\n",
      "x[Carlos,Tuesday2]=1.0\n",
      "x[Carlos,Wednesday1]=1.0\n",
      "x[Carlos,Wednesday2]=1.0\n",
      "x[Carlos,Thursday1]=1.0\n",
      "x[Carlos,Saturday1]=1.0\n",
      "x[Carlos,Saturday2]=1.0\n",
      "x[Carlos,Sunday2]=1.0\n",
      "x[Saul,Monday2]=1.0\n",
      "x[Saul,Tuesday2]=1.0\n",
      "x[Saul,Thursday2]=1.0\n",
      "x[Matias,Tuesday1]=1.0\n",
      "x[Matias,Wednesday1]=1.0\n",
      "x[Matias,Thursday1]=1.0\n",
      "x[Matias,Thursday2]=1.0\n",
      "x[Matias,Sunday2]=1.0\n",
      "x[Liliana,Tuesday2]=1.0\n",
      "x[Liliana,Wednesday1]=1.0\n",
      "x[Liliana,Thursday1]=1.0\n",
      "x[Liliana,Friday2]=1.0\n",
      "x[Liliana,Saturday1]=1.0\n",
      "x[Liliana,Sunday1]=1.0\n",
      "x[Liliana,Sunday2]=1.0\n",
      "x[Constanza,Monday1]=1.0\n",
      "x[Constanza,Tuesday1]=1.0\n",
      "x[Constanza,Wednesday1]=1.0\n",
      "x[Constanza,Thursday2]=1.0\n",
      "x[Constanza,Friday2]=1.0\n",
      "x[Constanza,Saturday2]=1.0\n",
      "x[Constanza,Sunday2]=1.0\n"
     ]
    }
   ],
   "source": [
    "#Estado de la solución\n",
    "if m.status==2:\n",
    "    print(\"Función Objetivo: \",str(round(m.objVal,2)))\n",
    "    for v in m.getVars():\n",
    "        if v.x>0:\n",
    "            print(str(v.VarName)+\"=\"+str(round(v.x,2)))\n",
    "else:\n",
    "    print(\"Solución Infactible\")"
   ]
  },
  {
   "cell_type": "code",
   "execution_count": 12,
   "metadata": {},
   "outputs": [
    {
     "data": {
      "text/html": [
       "<style  type=\"text/css\" >\n",
       "#T_fcdbc_row0_col0,#T_fcdbc_row0_col1,#T_fcdbc_row0_col2,#T_fcdbc_row0_col3,#T_fcdbc_row0_col4,#T_fcdbc_row0_col5,#T_fcdbc_row0_col6,#T_fcdbc_row0_col7,#T_fcdbc_row0_col8,#T_fcdbc_row0_col10,#T_fcdbc_row0_col13,#T_fcdbc_row1_col0,#T_fcdbc_row1_col1,#T_fcdbc_row1_col2,#T_fcdbc_row1_col3,#T_fcdbc_row1_col4,#T_fcdbc_row1_col6,#T_fcdbc_row1_col13,#T_fcdbc_row2_col0,#T_fcdbc_row2_col1,#T_fcdbc_row2_col2,#T_fcdbc_row2_col3,#T_fcdbc_row2_col4,#T_fcdbc_row2_col7,#T_fcdbc_row2_col8,#T_fcdbc_row2_col9,#T_fcdbc_row2_col10,#T_fcdbc_row2_col11,#T_fcdbc_row2_col12,#T_fcdbc_row3_col4,#T_fcdbc_row3_col7,#T_fcdbc_row3_col8,#T_fcdbc_row3_col9,#T_fcdbc_row3_col11,#T_fcdbc_row3_col12,#T_fcdbc_row3_col13,#T_fcdbc_row4_col1,#T_fcdbc_row4_col3,#T_fcdbc_row4_col5,#T_fcdbc_row4_col6,#T_fcdbc_row4_col7,#T_fcdbc_row4_col9,#T_fcdbc_row4_col11,#T_fcdbc_row4_col12,#T_fcdbc_row4_col13,#T_fcdbc_row5_col0,#T_fcdbc_row5_col1,#T_fcdbc_row5_col2,#T_fcdbc_row5_col7,#T_fcdbc_row5_col8,#T_fcdbc_row5_col9,#T_fcdbc_row5_col12,#T_fcdbc_row6_col0,#T_fcdbc_row6_col2,#T_fcdbc_row6_col4,#T_fcdbc_row6_col5,#T_fcdbc_row6_col6,#T_fcdbc_row6_col8,#T_fcdbc_row6_col9,#T_fcdbc_row6_col10,#T_fcdbc_row6_col11,#T_fcdbc_row6_col12,#T_fcdbc_row6_col13,#T_fcdbc_row7_col0,#T_fcdbc_row7_col1,#T_fcdbc_row7_col3,#T_fcdbc_row7_col5,#T_fcdbc_row7_col8,#T_fcdbc_row7_col9,#T_fcdbc_row7_col10,#T_fcdbc_row7_col11,#T_fcdbc_row7_col12,#T_fcdbc_row8_col0,#T_fcdbc_row8_col1,#T_fcdbc_row8_col2,#T_fcdbc_row8_col5,#T_fcdbc_row8_col7,#T_fcdbc_row8_col8,#T_fcdbc_row8_col11,#T_fcdbc_row9_col1,#T_fcdbc_row9_col3,#T_fcdbc_row9_col5,#T_fcdbc_row9_col6,#T_fcdbc_row9_col8,#T_fcdbc_row9_col10,#T_fcdbc_row9_col12{\n",
       "            background-color:  red;\n",
       "        }#T_fcdbc_row0_col9,#T_fcdbc_row0_col11,#T_fcdbc_row0_col12,#T_fcdbc_row1_col5,#T_fcdbc_row1_col7,#T_fcdbc_row1_col8,#T_fcdbc_row1_col9,#T_fcdbc_row1_col10,#T_fcdbc_row1_col11,#T_fcdbc_row1_col12,#T_fcdbc_row2_col5,#T_fcdbc_row2_col6,#T_fcdbc_row2_col13,#T_fcdbc_row3_col0,#T_fcdbc_row3_col1,#T_fcdbc_row3_col2,#T_fcdbc_row3_col3,#T_fcdbc_row3_col5,#T_fcdbc_row3_col6,#T_fcdbc_row3_col10,#T_fcdbc_row4_col0,#T_fcdbc_row4_col2,#T_fcdbc_row4_col4,#T_fcdbc_row4_col8,#T_fcdbc_row4_col10,#T_fcdbc_row5_col3,#T_fcdbc_row5_col4,#T_fcdbc_row5_col5,#T_fcdbc_row5_col6,#T_fcdbc_row5_col10,#T_fcdbc_row5_col11,#T_fcdbc_row5_col13,#T_fcdbc_row6_col1,#T_fcdbc_row6_col3,#T_fcdbc_row6_col7,#T_fcdbc_row7_col2,#T_fcdbc_row7_col4,#T_fcdbc_row7_col6,#T_fcdbc_row7_col7,#T_fcdbc_row7_col13,#T_fcdbc_row8_col3,#T_fcdbc_row8_col4,#T_fcdbc_row8_col6,#T_fcdbc_row8_col9,#T_fcdbc_row8_col10,#T_fcdbc_row8_col12,#T_fcdbc_row8_col13,#T_fcdbc_row9_col0,#T_fcdbc_row9_col2,#T_fcdbc_row9_col4,#T_fcdbc_row9_col7,#T_fcdbc_row9_col9,#T_fcdbc_row9_col11,#T_fcdbc_row9_col13{\n",
       "            background-color:  green;\n",
       "        }</style><table id=\"T_fcdbc_\" ><thead>    <tr>        <th class=\"blank level0\" ></th>        <th class=\"col_heading level0 col0\" >Monday1</th>        <th class=\"col_heading level0 col1\" >Monday2</th>        <th class=\"col_heading level0 col2\" >Tuesday1</th>        <th class=\"col_heading level0 col3\" >Tuesday2</th>        <th class=\"col_heading level0 col4\" >Wednesday1</th>        <th class=\"col_heading level0 col5\" >Wednesday2</th>        <th class=\"col_heading level0 col6\" >Thursday1</th>        <th class=\"col_heading level0 col7\" >Thursday2</th>        <th class=\"col_heading level0 col8\" >Friday1</th>        <th class=\"col_heading level0 col9\" >Friday2</th>        <th class=\"col_heading level0 col10\" >Saturday1</th>        <th class=\"col_heading level0 col11\" >Saturday2</th>        <th class=\"col_heading level0 col12\" >Sunday1</th>        <th class=\"col_heading level0 col13\" >Sunday2</th>    </tr></thead><tbody>\n",
       "                <tr>\n",
       "                        <th id=\"T_fcdbc_level0_row0\" class=\"row_heading level0 row0\" >Ana</th>\n",
       "                        <td id=\"T_fcdbc_row0_col0\" class=\"data row0 col0\" >0</td>\n",
       "                        <td id=\"T_fcdbc_row0_col1\" class=\"data row0 col1\" >0</td>\n",
       "                        <td id=\"T_fcdbc_row0_col2\" class=\"data row0 col2\" >0</td>\n",
       "                        <td id=\"T_fcdbc_row0_col3\" class=\"data row0 col3\" >0</td>\n",
       "                        <td id=\"T_fcdbc_row0_col4\" class=\"data row0 col4\" >0</td>\n",
       "                        <td id=\"T_fcdbc_row0_col5\" class=\"data row0 col5\" >0</td>\n",
       "                        <td id=\"T_fcdbc_row0_col6\" class=\"data row0 col6\" >0</td>\n",
       "                        <td id=\"T_fcdbc_row0_col7\" class=\"data row0 col7\" >0</td>\n",
       "                        <td id=\"T_fcdbc_row0_col8\" class=\"data row0 col8\" >0</td>\n",
       "                        <td id=\"T_fcdbc_row0_col9\" class=\"data row0 col9\" >1</td>\n",
       "                        <td id=\"T_fcdbc_row0_col10\" class=\"data row0 col10\" >0</td>\n",
       "                        <td id=\"T_fcdbc_row0_col11\" class=\"data row0 col11\" >1</td>\n",
       "                        <td id=\"T_fcdbc_row0_col12\" class=\"data row0 col12\" >1</td>\n",
       "                        <td id=\"T_fcdbc_row0_col13\" class=\"data row0 col13\" >0</td>\n",
       "            </tr>\n",
       "            <tr>\n",
       "                        <th id=\"T_fcdbc_level0_row1\" class=\"row_heading level0 row1\" >Benjamin</th>\n",
       "                        <td id=\"T_fcdbc_row1_col0\" class=\"data row1 col0\" >0</td>\n",
       "                        <td id=\"T_fcdbc_row1_col1\" class=\"data row1 col1\" >0</td>\n",
       "                        <td id=\"T_fcdbc_row1_col2\" class=\"data row1 col2\" >0</td>\n",
       "                        <td id=\"T_fcdbc_row1_col3\" class=\"data row1 col3\" >0</td>\n",
       "                        <td id=\"T_fcdbc_row1_col4\" class=\"data row1 col4\" >0</td>\n",
       "                        <td id=\"T_fcdbc_row1_col5\" class=\"data row1 col5\" >1</td>\n",
       "                        <td id=\"T_fcdbc_row1_col6\" class=\"data row1 col6\" >0</td>\n",
       "                        <td id=\"T_fcdbc_row1_col7\" class=\"data row1 col7\" >1</td>\n",
       "                        <td id=\"T_fcdbc_row1_col8\" class=\"data row1 col8\" >1</td>\n",
       "                        <td id=\"T_fcdbc_row1_col9\" class=\"data row1 col9\" >1</td>\n",
       "                        <td id=\"T_fcdbc_row1_col10\" class=\"data row1 col10\" >1</td>\n",
       "                        <td id=\"T_fcdbc_row1_col11\" class=\"data row1 col11\" >1</td>\n",
       "                        <td id=\"T_fcdbc_row1_col12\" class=\"data row1 col12\" >1</td>\n",
       "                        <td id=\"T_fcdbc_row1_col13\" class=\"data row1 col13\" >0</td>\n",
       "            </tr>\n",
       "            <tr>\n",
       "                        <th id=\"T_fcdbc_level0_row2\" class=\"row_heading level0 row2\" >Chayanne</th>\n",
       "                        <td id=\"T_fcdbc_row2_col0\" class=\"data row2 col0\" >0</td>\n",
       "                        <td id=\"T_fcdbc_row2_col1\" class=\"data row2 col1\" >0</td>\n",
       "                        <td id=\"T_fcdbc_row2_col2\" class=\"data row2 col2\" >0</td>\n",
       "                        <td id=\"T_fcdbc_row2_col3\" class=\"data row2 col3\" >0</td>\n",
       "                        <td id=\"T_fcdbc_row2_col4\" class=\"data row2 col4\" >0</td>\n",
       "                        <td id=\"T_fcdbc_row2_col5\" class=\"data row2 col5\" >1</td>\n",
       "                        <td id=\"T_fcdbc_row2_col6\" class=\"data row2 col6\" >1</td>\n",
       "                        <td id=\"T_fcdbc_row2_col7\" class=\"data row2 col7\" >0</td>\n",
       "                        <td id=\"T_fcdbc_row2_col8\" class=\"data row2 col8\" >0</td>\n",
       "                        <td id=\"T_fcdbc_row2_col9\" class=\"data row2 col9\" >0</td>\n",
       "                        <td id=\"T_fcdbc_row2_col10\" class=\"data row2 col10\" >0</td>\n",
       "                        <td id=\"T_fcdbc_row2_col11\" class=\"data row2 col11\" >0</td>\n",
       "                        <td id=\"T_fcdbc_row2_col12\" class=\"data row2 col12\" >0</td>\n",
       "                        <td id=\"T_fcdbc_row2_col13\" class=\"data row2 col13\" >1</td>\n",
       "            </tr>\n",
       "            <tr>\n",
       "                        <th id=\"T_fcdbc_level0_row3\" class=\"row_heading level0 row3\" >Manuel</th>\n",
       "                        <td id=\"T_fcdbc_row3_col0\" class=\"data row3 col0\" >1</td>\n",
       "                        <td id=\"T_fcdbc_row3_col1\" class=\"data row3 col1\" >1</td>\n",
       "                        <td id=\"T_fcdbc_row3_col2\" class=\"data row3 col2\" >1</td>\n",
       "                        <td id=\"T_fcdbc_row3_col3\" class=\"data row3 col3\" >1</td>\n",
       "                        <td id=\"T_fcdbc_row3_col4\" class=\"data row3 col4\" >0</td>\n",
       "                        <td id=\"T_fcdbc_row3_col5\" class=\"data row3 col5\" >1</td>\n",
       "                        <td id=\"T_fcdbc_row3_col6\" class=\"data row3 col6\" >1</td>\n",
       "                        <td id=\"T_fcdbc_row3_col7\" class=\"data row3 col7\" >0</td>\n",
       "                        <td id=\"T_fcdbc_row3_col8\" class=\"data row3 col8\" >0</td>\n",
       "                        <td id=\"T_fcdbc_row3_col9\" class=\"data row3 col9\" >0</td>\n",
       "                        <td id=\"T_fcdbc_row3_col10\" class=\"data row3 col10\" >1</td>\n",
       "                        <td id=\"T_fcdbc_row3_col11\" class=\"data row3 col11\" >0</td>\n",
       "                        <td id=\"T_fcdbc_row3_col12\" class=\"data row3 col12\" >0</td>\n",
       "                        <td id=\"T_fcdbc_row3_col13\" class=\"data row3 col13\" >0</td>\n",
       "            </tr>\n",
       "            <tr>\n",
       "                        <th id=\"T_fcdbc_level0_row4\" class=\"row_heading level0 row4\" >Luis Miguel</th>\n",
       "                        <td id=\"T_fcdbc_row4_col0\" class=\"data row4 col0\" >1</td>\n",
       "                        <td id=\"T_fcdbc_row4_col1\" class=\"data row4 col1\" >0</td>\n",
       "                        <td id=\"T_fcdbc_row4_col2\" class=\"data row4 col2\" >1</td>\n",
       "                        <td id=\"T_fcdbc_row4_col3\" class=\"data row4 col3\" >0</td>\n",
       "                        <td id=\"T_fcdbc_row4_col4\" class=\"data row4 col4\" >1</td>\n",
       "                        <td id=\"T_fcdbc_row4_col5\" class=\"data row4 col5\" >0</td>\n",
       "                        <td id=\"T_fcdbc_row4_col6\" class=\"data row4 col6\" >0</td>\n",
       "                        <td id=\"T_fcdbc_row4_col7\" class=\"data row4 col7\" >0</td>\n",
       "                        <td id=\"T_fcdbc_row4_col8\" class=\"data row4 col8\" >1</td>\n",
       "                        <td id=\"T_fcdbc_row4_col9\" class=\"data row4 col9\" >0</td>\n",
       "                        <td id=\"T_fcdbc_row4_col10\" class=\"data row4 col10\" >1</td>\n",
       "                        <td id=\"T_fcdbc_row4_col11\" class=\"data row4 col11\" >0</td>\n",
       "                        <td id=\"T_fcdbc_row4_col12\" class=\"data row4 col12\" >0</td>\n",
       "                        <td id=\"T_fcdbc_row4_col13\" class=\"data row4 col13\" >0</td>\n",
       "            </tr>\n",
       "            <tr>\n",
       "                        <th id=\"T_fcdbc_level0_row5\" class=\"row_heading level0 row5\" >Carlos</th>\n",
       "                        <td id=\"T_fcdbc_row5_col0\" class=\"data row5 col0\" >0</td>\n",
       "                        <td id=\"T_fcdbc_row5_col1\" class=\"data row5 col1\" >0</td>\n",
       "                        <td id=\"T_fcdbc_row5_col2\" class=\"data row5 col2\" >0</td>\n",
       "                        <td id=\"T_fcdbc_row5_col3\" class=\"data row5 col3\" >1</td>\n",
       "                        <td id=\"T_fcdbc_row5_col4\" class=\"data row5 col4\" >1</td>\n",
       "                        <td id=\"T_fcdbc_row5_col5\" class=\"data row5 col5\" >1</td>\n",
       "                        <td id=\"T_fcdbc_row5_col6\" class=\"data row5 col6\" >1</td>\n",
       "                        <td id=\"T_fcdbc_row5_col7\" class=\"data row5 col7\" >0</td>\n",
       "                        <td id=\"T_fcdbc_row5_col8\" class=\"data row5 col8\" >0</td>\n",
       "                        <td id=\"T_fcdbc_row5_col9\" class=\"data row5 col9\" >0</td>\n",
       "                        <td id=\"T_fcdbc_row5_col10\" class=\"data row5 col10\" >1</td>\n",
       "                        <td id=\"T_fcdbc_row5_col11\" class=\"data row5 col11\" >1</td>\n",
       "                        <td id=\"T_fcdbc_row5_col12\" class=\"data row5 col12\" >0</td>\n",
       "                        <td id=\"T_fcdbc_row5_col13\" class=\"data row5 col13\" >1</td>\n",
       "            </tr>\n",
       "            <tr>\n",
       "                        <th id=\"T_fcdbc_level0_row6\" class=\"row_heading level0 row6\" >Saul</th>\n",
       "                        <td id=\"T_fcdbc_row6_col0\" class=\"data row6 col0\" >0</td>\n",
       "                        <td id=\"T_fcdbc_row6_col1\" class=\"data row6 col1\" >1</td>\n",
       "                        <td id=\"T_fcdbc_row6_col2\" class=\"data row6 col2\" >0</td>\n",
       "                        <td id=\"T_fcdbc_row6_col3\" class=\"data row6 col3\" >1</td>\n",
       "                        <td id=\"T_fcdbc_row6_col4\" class=\"data row6 col4\" >0</td>\n",
       "                        <td id=\"T_fcdbc_row6_col5\" class=\"data row6 col5\" >0</td>\n",
       "                        <td id=\"T_fcdbc_row6_col6\" class=\"data row6 col6\" >0</td>\n",
       "                        <td id=\"T_fcdbc_row6_col7\" class=\"data row6 col7\" >1</td>\n",
       "                        <td id=\"T_fcdbc_row6_col8\" class=\"data row6 col8\" >0</td>\n",
       "                        <td id=\"T_fcdbc_row6_col9\" class=\"data row6 col9\" >0</td>\n",
       "                        <td id=\"T_fcdbc_row6_col10\" class=\"data row6 col10\" >0</td>\n",
       "                        <td id=\"T_fcdbc_row6_col11\" class=\"data row6 col11\" >0</td>\n",
       "                        <td id=\"T_fcdbc_row6_col12\" class=\"data row6 col12\" >0</td>\n",
       "                        <td id=\"T_fcdbc_row6_col13\" class=\"data row6 col13\" >0</td>\n",
       "            </tr>\n",
       "            <tr>\n",
       "                        <th id=\"T_fcdbc_level0_row7\" class=\"row_heading level0 row7\" >Matias</th>\n",
       "                        <td id=\"T_fcdbc_row7_col0\" class=\"data row7 col0\" >0</td>\n",
       "                        <td id=\"T_fcdbc_row7_col1\" class=\"data row7 col1\" >0</td>\n",
       "                        <td id=\"T_fcdbc_row7_col2\" class=\"data row7 col2\" >1</td>\n",
       "                        <td id=\"T_fcdbc_row7_col3\" class=\"data row7 col3\" >0</td>\n",
       "                        <td id=\"T_fcdbc_row7_col4\" class=\"data row7 col4\" >1</td>\n",
       "                        <td id=\"T_fcdbc_row7_col5\" class=\"data row7 col5\" >0</td>\n",
       "                        <td id=\"T_fcdbc_row7_col6\" class=\"data row7 col6\" >1</td>\n",
       "                        <td id=\"T_fcdbc_row7_col7\" class=\"data row7 col7\" >1</td>\n",
       "                        <td id=\"T_fcdbc_row7_col8\" class=\"data row7 col8\" >0</td>\n",
       "                        <td id=\"T_fcdbc_row7_col9\" class=\"data row7 col9\" >0</td>\n",
       "                        <td id=\"T_fcdbc_row7_col10\" class=\"data row7 col10\" >0</td>\n",
       "                        <td id=\"T_fcdbc_row7_col11\" class=\"data row7 col11\" >0</td>\n",
       "                        <td id=\"T_fcdbc_row7_col12\" class=\"data row7 col12\" >0</td>\n",
       "                        <td id=\"T_fcdbc_row7_col13\" class=\"data row7 col13\" >1</td>\n",
       "            </tr>\n",
       "            <tr>\n",
       "                        <th id=\"T_fcdbc_level0_row8\" class=\"row_heading level0 row8\" >Liliana</th>\n",
       "                        <td id=\"T_fcdbc_row8_col0\" class=\"data row8 col0\" >0</td>\n",
       "                        <td id=\"T_fcdbc_row8_col1\" class=\"data row8 col1\" >0</td>\n",
       "                        <td id=\"T_fcdbc_row8_col2\" class=\"data row8 col2\" >0</td>\n",
       "                        <td id=\"T_fcdbc_row8_col3\" class=\"data row8 col3\" >1</td>\n",
       "                        <td id=\"T_fcdbc_row8_col4\" class=\"data row8 col4\" >1</td>\n",
       "                        <td id=\"T_fcdbc_row8_col5\" class=\"data row8 col5\" >0</td>\n",
       "                        <td id=\"T_fcdbc_row8_col6\" class=\"data row8 col6\" >1</td>\n",
       "                        <td id=\"T_fcdbc_row8_col7\" class=\"data row8 col7\" >0</td>\n",
       "                        <td id=\"T_fcdbc_row8_col8\" class=\"data row8 col8\" >0</td>\n",
       "                        <td id=\"T_fcdbc_row8_col9\" class=\"data row8 col9\" >1</td>\n",
       "                        <td id=\"T_fcdbc_row8_col10\" class=\"data row8 col10\" >1</td>\n",
       "                        <td id=\"T_fcdbc_row8_col11\" class=\"data row8 col11\" >0</td>\n",
       "                        <td id=\"T_fcdbc_row8_col12\" class=\"data row8 col12\" >1</td>\n",
       "                        <td id=\"T_fcdbc_row8_col13\" class=\"data row8 col13\" >1</td>\n",
       "            </tr>\n",
       "            <tr>\n",
       "                        <th id=\"T_fcdbc_level0_row9\" class=\"row_heading level0 row9\" >Constanza</th>\n",
       "                        <td id=\"T_fcdbc_row9_col0\" class=\"data row9 col0\" >1</td>\n",
       "                        <td id=\"T_fcdbc_row9_col1\" class=\"data row9 col1\" >0</td>\n",
       "                        <td id=\"T_fcdbc_row9_col2\" class=\"data row9 col2\" >1</td>\n",
       "                        <td id=\"T_fcdbc_row9_col3\" class=\"data row9 col3\" >0</td>\n",
       "                        <td id=\"T_fcdbc_row9_col4\" class=\"data row9 col4\" >1</td>\n",
       "                        <td id=\"T_fcdbc_row9_col5\" class=\"data row9 col5\" >0</td>\n",
       "                        <td id=\"T_fcdbc_row9_col6\" class=\"data row9 col6\" >0</td>\n",
       "                        <td id=\"T_fcdbc_row9_col7\" class=\"data row9 col7\" >1</td>\n",
       "                        <td id=\"T_fcdbc_row9_col8\" class=\"data row9 col8\" >0</td>\n",
       "                        <td id=\"T_fcdbc_row9_col9\" class=\"data row9 col9\" >1</td>\n",
       "                        <td id=\"T_fcdbc_row9_col10\" class=\"data row9 col10\" >0</td>\n",
       "                        <td id=\"T_fcdbc_row9_col11\" class=\"data row9 col11\" >1</td>\n",
       "                        <td id=\"T_fcdbc_row9_col12\" class=\"data row9 col12\" >0</td>\n",
       "                        <td id=\"T_fcdbc_row9_col13\" class=\"data row9 col13\" >1</td>\n",
       "            </tr>\n",
       "    </tbody></table>"
      ],
      "text/plain": [
       "<pandas.io.formats.style.Styler at 0x1ed879a0970>"
      ]
     },
     "execution_count": 12,
     "metadata": {},
     "output_type": "execute_result"
    }
   ],
   "source": [
    "solucion= pd.DataFrame([[int(x[i,t].x) for t in turnos]  for i in trabajadores],index = trabajadores, columns = turnos)\n",
    "solucion.style.applymap(lambda x: \"background-color: green\" if x>0 else \"background-color: red\")\n"
   ]
  }
 ],
 "metadata": {
  "interpreter": {
   "hash": "b3ba2566441a7c06988d0923437866b63cedc61552a5af99d1f4fb67d367b25f"
  },
  "kernelspec": {
   "display_name": "Python 3.8.8 64-bit ('base': conda)",
   "name": "python3"
  },
  "language_info": {
   "codemirror_mode": {
    "name": "ipython",
    "version": 3
   },
   "file_extension": ".py",
   "mimetype": "text/x-python",
   "name": "python",
   "nbconvert_exporter": "python",
   "pygments_lexer": "ipython3",
   "version": "3.8.8"
  }
 },
 "nbformat": 4,
 "nbformat_minor": 2
}
