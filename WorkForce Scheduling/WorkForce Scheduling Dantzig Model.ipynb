{
 "cells": [
  {
   "cell_type": "markdown",
   "source": [
    "# WorkForce Scheduling Problem\r\n",
    "https://www.math.vu.nl/~sbhulai/papers/thesis-dano.pdf"
   ],
   "metadata": {}
  },
  {
   "cell_type": "markdown",
   "source": [],
   "metadata": {}
  },
  {
   "cell_type": "code",
   "execution_count": 29,
   "source": [
    "import pandas as pd\r\n",
    "import numpy as np\r\n",
    "from gurobipy import *\r\n",
    "import matplotlib.pyplot as plt"
   ],
   "outputs": [],
   "metadata": {}
  },
  {
   "cell_type": "markdown",
   "source": [
    "# Subíndices\r\n",
    "i=turno\r\n",
    "\r\n",
    "t=día\r\n",
    "\r\n",
    "\r\n",
    "# Parámetros\r\n",
    "\r\n",
    "$Ntrab_{t}$= Numero de trabajadores requeridos en el periodo $t$\r\n",
    "\r\n",
    "$costoTurno_{i}$= Costo por cada trabajador que trabaje según el sistema de turnos $i$\r\n",
    "\r\n",
    "$dispTurno_{it}=$ si el turno i esta disponible durante el periodo t"
   ],
   "metadata": {}
  },
  {
   "cell_type": "code",
   "execution_count": 30,
   "source": [
    "dias = [1,2,3,4,5,6,7,8,9,10]\r\n",
    "turnos=[\"A\",\"B\",\"C\",\"D\",\"E\"]\r\n",
    "costoTurno = {\"A\":7, \"B\":6, \"C\":7.5, \"D\":8, \"E\":9.5}\r\n",
    "Ntrab = {1:48, 2:79, 3:65, 4:87, 5:64, 6:73, 7:82, 8:43, 9:52, 10:15}\r\n",
    "dispTurno={('A', 1): 1,  ('B', 1): 0,  ('C', 1): 0, ('D', 1): 0, ('E', 1): 0,  ('A', 2): 1, ('B', 2): 1, ('C', 2): 0,\r\n",
    "('D', 2): 0, ('E', 2): 0, ('A', 3): 1, ('B', 3): 1, ('C', 3): 0, ('D', 3): 0, ('E', 3): 0, ('A', 4): 1, ('B', 4): 1, \r\n",
    "('C', 4): 1, ('D', 4): 0, ('E', 4): 0, ('A', 5): 0, ('B', 5): 1, ('C', 5): 1, ('D', 5): 0, ('E', 5): 0, ('A', 6): 0, \r\n",
    "('B', 6): 0, ('C', 6): 1, ('D', 6): 1, ('E', 6): 0, ('A', 7): 0, ('B', 7): 0, ('C', 7): 1, ('D', 7): 1, ('E', 7): 0, \r\n",
    "('A', 8): 0, ('B', 8): 0, ('C', 8): 0, ('D', 8): 1, ('E', 8): 0, ('A', 9): 0, ('B', 9): 0, ('C', 9): 0, ('D', 9): 1, \r\n",
    "('E', 9): 1, ('A', 10): 0, ('B', 10): 0, ('C', 10): 0, ('D', 10): 0, ('E', 10): 1}"
   ],
   "outputs": [],
   "metadata": {}
  },
  {
   "cell_type": "code",
   "execution_count": 31,
   "source": [
    "m=Model(\"Workforce Scheduling\")"
   ],
   "outputs": [],
   "metadata": {}
  },
  {
   "cell_type": "markdown",
   "source": [
    "# Variables de decisión\r\n",
    "\r\n",
    "$X_i$= Número de trabajadores contratados según el turno i\r\n",
    "\r\n"
   ],
   "metadata": {}
  },
  {
   "cell_type": "code",
   "execution_count": 32,
   "source": [
    "x=m.addVars(turnos,name='x',vtype=GRB.CONTINUOUS)"
   ],
   "outputs": [],
   "metadata": {}
  },
  {
   "cell_type": "markdown",
   "source": [
    "# Función Objetivo\r\n",
    "\r\n",
    "$ Min Z= \\sum_{\\forall{i,j}} X_{ij}*costoTurno_i$"
   ],
   "metadata": {}
  },
  {
   "cell_type": "code",
   "execution_count": 33,
   "source": [
    "z=quicksum(x[i]*costoTurno[i] for i in turnos)\r\n",
    "m.setObjective(z,GRB.MINIMIZE)"
   ],
   "outputs": [],
   "metadata": {}
  },
  {
   "cell_type": "markdown",
   "source": [
    "# Restricciones\r\n",
    "\r\n",
    "Trabajadores requeridos:\r\n",
    "\r\n",
    "$\\sum_{\\forall{i}} dispTurno_{it}*x_i>= Ntrab[t] \\forall t$\r\n"
   ],
   "metadata": {}
  },
  {
   "cell_type": "code",
   "execution_count": 34,
   "source": [
    "m.addConstrs(quicksum(dispTurno[i,t]*x[i] for i in turnos)>=Ntrab[t] for t in dias)"
   ],
   "outputs": [
    {
     "output_type": "execute_result",
     "data": {
      "text/plain": [
       "{1: <gurobi.Constr *Awaiting Model Update*>,\n",
       " 2: <gurobi.Constr *Awaiting Model Update*>,\n",
       " 3: <gurobi.Constr *Awaiting Model Update*>,\n",
       " 4: <gurobi.Constr *Awaiting Model Update*>,\n",
       " 5: <gurobi.Constr *Awaiting Model Update*>,\n",
       " 6: <gurobi.Constr *Awaiting Model Update*>,\n",
       " 7: <gurobi.Constr *Awaiting Model Update*>,\n",
       " 8: <gurobi.Constr *Awaiting Model Update*>,\n",
       " 9: <gurobi.Constr *Awaiting Model Update*>,\n",
       " 10: <gurobi.Constr *Awaiting Model Update*>}"
      ]
     },
     "metadata": {},
     "execution_count": 34
    }
   ],
   "metadata": {}
  },
  {
   "cell_type": "code",
   "execution_count": 35,
   "source": [
    "m.optimize()"
   ],
   "outputs": [
    {
     "output_type": "stream",
     "name": "stdout",
     "text": [
      "Gurobi Optimizer version 9.1.2 build v9.1.2rc0 (win64)\n",
      "Thread count: 8 physical cores, 16 logical processors, using up to 16 threads\n",
      "Optimize a model with 10 rows, 5 columns and 18 nonzeros\n",
      "Model fingerprint: 0xf25ae6ad\n",
      "Coefficient statistics:\n",
      "  Matrix range     [1e+00, 1e+00]\n",
      "  Objective range  [6e+00, 1e+01]\n",
      "  Bounds range     [0e+00, 0e+00]\n",
      "  RHS range        [2e+01, 9e+01]\n",
      "Presolve removed 10 rows and 5 columns\n",
      "Presolve time: 0.02s\n",
      "Presolve: All rows and columns removed\n",
      "Iteration    Objective       Primal Inf.    Dual Inf.      Time\n",
      "       0    1.3010000e+03   0.000000e+00   0.000000e+00      0s\n",
      "\n",
      "Solved in 0 iterations and 0.02 seconds\n",
      "Optimal objective  1.301000000e+03\n"
     ]
    }
   ],
   "metadata": {}
  },
  {
   "cell_type": "code",
   "execution_count": 36,
   "source": [
    "#Estado de la solución\r\n",
    "if m.status==2:\r\n",
    "    print(\"Función Objetivo: \",str(round(m.objVal,2)))\r\n",
    "    for v in m.getVars():\r\n",
    "        if v.x>0:\r\n",
    "            print(str(v.VarName)+\"=\"+str(round(v.x,2)))\r\n",
    "else:\r\n",
    "    print(\"Solución Infactible\")"
   ],
   "outputs": [
    {
     "output_type": "stream",
     "name": "stdout",
     "text": [
      "Función Objetivo:  1301.0\n",
      "x[A]=48.0\n",
      "x[B]=31.0\n",
      "x[C]=39.0\n",
      "x[D]=43.0\n",
      "x[E]=15.0\n"
     ]
    }
   ],
   "metadata": {}
  },
  {
   "cell_type": "code",
   "execution_count": null,
   "source": [],
   "outputs": [],
   "metadata": {}
  },
  {
   "cell_type": "markdown",
   "source": [
    "# References \n",
    "Dantzig, G. B. A comment on Edie’s traffic delays at toll booth. Operations\n",
    "Research vol. 2(3) (1954), pp. 339–341."
   ],
   "metadata": {}
  }
 ],
 "metadata": {
  "interpreter": {
   "hash": "b3ba2566441a7c06988d0923437866b63cedc61552a5af99d1f4fb67d367b25f"
  },
  "kernelspec": {
   "name": "python3",
   "display_name": "Python 3.8.8 64-bit ('base': conda)"
  },
  "language_info": {
   "codemirror_mode": {
    "name": "ipython",
    "version": 3
   },
   "file_extension": ".py",
   "mimetype": "text/x-python",
   "name": "python",
   "nbconvert_exporter": "python",
   "pygments_lexer": "ipython3",
   "version": "3.8.8"
  }
 },
 "nbformat": 4,
 "nbformat_minor": 2
}