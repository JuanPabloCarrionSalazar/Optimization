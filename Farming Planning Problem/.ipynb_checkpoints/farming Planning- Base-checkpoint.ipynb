{
 "cells": [
  {
   "cell_type": "markdown",
   "metadata": {},
   "source": [
    "# Farm Planning Problem\n",
    "\n",
    "Las tres principales insumos de la producción agricola son el terreno, la mano de obra y el agua. Sus requerimiento varían a través de los años según las distintas actividades de cultivo desarrolladas en el terreno.\n",
    "\n",
    "La rotación de los cultivos es la práctica de plantar diferentes cultivos secuencialmente en la misma parcela. Esta rotación y su agendamiento en el mundo real requiere del apoyo de un agronomo. Para el modelo se supondrá que el agronomo ya registro que tipos de cultivos se pueden cultivar en cada periodo y cuanto tiempo el cultivo demorá en crecer. \n",
    "\n",
    "El uso de mano de obra varía de año a año y de acuerdo al periodo, ya que existen distintas actividades según el periodo, como pueden ser la preparación del terreno, plantación, mantenimiento y cocecha. Para cada tipo de cultivo existe distintos requerimientos de mano de obra según el periodo.\n",
    "\n",
    "Además de los trabajadores ya disponibles se puede contratar trabajadores permanentes o temporales.\n",
    "\n",
    "Considere que existen 10 hectareas de terreno cultivable.\n",
    "\n",
    "Versión resumida del problema encontrado en [AIMMS Modeling Guide - Farm Planning Problem](https://download.aimms.com/aimms/download/manuals/AIMMS3OM_FarmPlanning.pdf)"
   ]
  },
  {
   "cell_type": "code",
   "execution_count": null,
   "metadata": {},
   "outputs": [],
   "source": [
    "import pandas as pd\n",
    "import numpy as np\n",
    "from gurobipy import *\n",
    "import matplotlib.pyplot as plt"
   ]
  },
  {
   "cell_type": "markdown",
   "metadata": {},
   "source": [
    "# Subíndices\n",
    "*i*=cultivo\n",
    "\n",
    "*t*=período\n",
    "\n",
    "\n",
    "# Parámetros\n",
    "\n",
    "$TO_{it}$= % de ocupación del terreno en el periodo *t* en caso de cultivarse el cultivo *i*\n",
    "\n",
    "$HHC_{it}$= Horas Humanas requeridas para el cultivo *i* en el periodo *t* \n",
    "\n",
    "$HHDisp_{t}$= Horas Humanas disponibles en el periodo *t* por cada trabajador \n",
    "\n",
    "$ProdHa_{i}$= Toneladas producicas por cada hectarea del cultivo *i*\n",
    "\n",
    "$PTon_{i}$= Precio de mercado por cada tonelada del cultivo *i*\n",
    "\n",
    "*TP*= Trabajadores permanentes mínimos\n",
    "\n",
    "*CHHTemporal*= Costo de la HH de un trabajador temporal"
   ]
  },
  {
   "cell_type": "code",
   "execution_count": null,
   "metadata": {},
   "outputs": [],
   "source": [
    "cultivo=[\"trigo\",\"legumbres\",\"cebolla\",\"algodon\",\"maiz\",\"tomates\"]\n",
    "periodo=[1,2,3,4,5,6,7,8,9,10,11,12]\n",
    "\n",
    "arcos=[(i,t) for i in cultivo for t in periodo]\n",
    "# % de ocupación del terreno en el periodo t en caso de cultivarse el cultivo i\n",
    "TO={(\"trigo\",1):1,(\"trigo\",2):1,(\"trigo\",3):1,(\"trigo\",4):1,(\"trigo\",5):1,(\"trigo\",6):0,(\"trigo\",7):0,(\"trigo\",8):0,\n",
    "(\"trigo\",9):0,(\"trigo\",10):0,(\"trigo\",11):0.5,(\"trigo\",12):1,(\"legumbres\",1):1,(\"legumbres\",2):1,(\"legumbres\",3):1,\n",
    "(\"legumbres\",4):1,(\"legumbres\",5):0,(\"legumbres\",6):0,(\"legumbres\",7):0,(\"legumbres\",8):0,(\"legumbres\",9):0,(\"legumbres\",10):0,\n",
    "(\"legumbres\",11):0.25,(\"legumbres\",12):1,(\"cebolla\",1):1,(\"cebolla\",2):1,(\"cebolla\",3):1,(\"cebolla\",4):1,(\"cebolla\",5):0.25,\n",
    "(\"cebolla\",6):0,(\"cebolla\",7):0,(\"cebolla\",8):0,(\"cebolla\",9):0,(\"cebolla\",10):0,(\"cebolla\",11):0.5,(\"cebolla\",12):1,\n",
    "(\"algodon\",1):0,(\"algodon\",2):0,(\"algodon\",3):0.5,(\"algodon\",4):1,(\"algodon\",5):1,(\"algodon\",6):1,(\"algodon\",7):1,\n",
    "(\"algodon\",8):1,(\"algodon\",9):1,(\"algodon\",10):1,(\"algodon\",11):0.75,(\"algodon\",12):0,(\"maiz\",1):0,(\"maiz\",2):0,(\"maiz\",3):0,\n",
    "(\"maiz\",4):0, (\"maiz\",5):0.5,(\"maiz\",6):1,(\"maiz\",7):1,(\"maiz\",8):1,(\"maiz\",9):1,(\"maiz\",10):0.5,(\"maiz\",11):0,(\"maiz\",12):0,\n",
    "(\"tomates\",1):0,(\"tomates\",2):0,(\"tomates\",3):0,(\"tomates\",4):0,(\"tomates\",5):0,(\"tomates\",6):0,(\"tomates\",7):0.75,(\"tomates\",8):1,\n",
    "(\"tomates\",9):1,(\"tomates\",10):1,(\"tomates\",11):0.75,(\"tomates\",12):0}\n",
    "\n",
    "#Horas Humanas requeridas para el cultivo *i* en el periodo *t* \n",
    "HHC={(\"trigo\",1):14,(\"trigo\",2):4,(\"trigo\",3):8,(\"trigo\",4):8,(\"trigo\",5):137,(\"trigo\",6):0,(\"trigo\",7):0,(\"trigo\",8):0,\n",
    "(\"trigo\",9):0,(\"trigo\",10):0,(\"trigo\",11):19,(\"trigo\",12):1,(\"legumbres\",1):11,(\"legumbres\",2):6,(\"legumbres\",3):6,\n",
    "(\"legumbres\",4):128,(\"legumbres\",5):0,(\"legumbres\",6):0,(\"legumbres\",7):0,(\"legumbres\",8):0,(\"legumbres\",9):0,(\"legumbres\",10):0,\n",
    "(\"legumbres\",11):60,(\"legumbres\",12):6,(\"cebolla\",1):41,(\"cebolla\",2):40,(\"cebolla\",3):40,(\"cebolla\",4):155,(\"cebolla\",5):19,\n",
    "(\"cebolla\",6):0,(\"cebolla\",7):0,(\"cebolla\",8):0,(\"cebolla\",9):0,(\"cebolla\",10):0,(\"cebolla\",11):89,(\"cebolla\",12):37,\n",
    "(\"algodon\",1):0,(\"algodon\",2):0,(\"algodon\",3):40,(\"algodon\",4):40,(\"algodon\",5):72,(\"algodon\",6):16,(\"algodon\",7):12,\n",
    "(\"algodon\",8):16,(\"algodon\",9):8,(\"algodon\",10):46,(\"algodon\",11):34,(\"algodon\",12):0,(\"maiz\",1):0,(\"maiz\",2):0,(\"maiz\",3):0,\n",
    "(\"maiz\",4):0, (\"maiz\",5):34,(\"maiz\",6):40,(\"maiz\",7):57,(\"maiz\",8):64,(\"maiz\",9):35,(\"maiz\",10):9,(\"maiz\",11):0,(\"maiz\",12):0,\n",
    "(\"tomates\",1):0,(\"tomates\",2):0,(\"tomates\",3):0,(\"tomates\",4):0,(\"tomates\",5):0,(\"tomates\",6):0,(\"tomates\",7):136,(\"tomates\",8):120,\n",
    "(\"tomates\",9):96,(\"tomates\",10):56,(\"tomates\",11):48,(\"tomates\",12):0}\n",
    "\n",
    "#Horas Humanas disponibles en el periodo *t* por cada trabajador Permanente\n",
    "HHdisp={1:160,2:160,3:184,4:176,5:168,6:176,7:176,8:176,9:176,10:168,11:176,12:176}\n",
    "\n",
    "CTP=40000\n",
    "CHHTemporal=4\n",
    "\n",
    "ProdHa={\"trigo\":1.5,\"legumbres\":1,\"cebolla\":6,\"algodon\":1.5,\"maiz\":1.75,\"tomates\":6}\n",
    "PTon={\"trigo\":1500,\"legumbres\":2500,\"cebolla\":1250,\"algodon\":4000,\"maiz\":1200,\"tomates\":1300}"
   ]
  },
  {
   "cell_type": "code",
   "execution_count": null,
   "metadata": {},
   "outputs": [],
   "source": []
  },
  {
   "cell_type": "markdown",
   "metadata": {},
   "source": [
    "# Variables de decisión\n",
    "\n",
    "$X_i$= Número de hectareas plantadas con el cultivo i\n",
    "\n",
    "$Y$= Número de trabajadores permanentes contratados\n",
    "\n",
    "$Ytemp_t$= Número de hh contradas con trabajadores temporales en el período $t$"
   ]
  },
  {
   "cell_type": "code",
   "execution_count": null,
   "metadata": {},
   "outputs": [],
   "source": []
  },
  {
   "cell_type": "markdown",
   "metadata": {},
   "source": [
    "# Función Objetivo\n",
    "\n",
    "$Max Z= \\sum_{i}^I X_i*ProdHa_i*PTon_i -\\sum_{t}^T Ytemp*CHHTemporal -Y*CTP $"
   ]
  },
  {
   "cell_type": "code",
   "execution_count": null,
   "metadata": {},
   "outputs": [],
   "source": []
  },
  {
   "cell_type": "markdown",
   "metadata": {},
   "source": [
    "# Restricciones\n",
    "\n",
    "Limite de terreno:\n",
    "\n",
    "$\\sum_{i} TO_{it}*x_i<= 10$\n",
    "\n",
    "Requerimiento de mano de obra\n",
    "\n",
    "$ \\sum_{i}HHC_{it}*x_i<=y*HHdisp_t + ytemp   \\forall t $\n",
    "\n",
    "Número mínimo de trabajadores\n",
    "\n",
    "$Y>=2$\n",
    "\n"
   ]
  },
  {
   "cell_type": "markdown",
   "metadata": {},
   "source": [
    "R1:\n",
    "$\\sum_{i} TO_{it}*x_i<= 10      \\forall t$"
   ]
  },
  {
   "cell_type": "code",
   "execution_count": null,
   "metadata": {},
   "outputs": [],
   "source": []
  },
  {
   "cell_type": "markdown",
   "metadata": {},
   "source": [
    "R2:\n",
    "$ \\sum_{i}HHC_{it}*x_i<=y*HHdisp_t + ytemp   \\forall t $"
   ]
  },
  {
   "cell_type": "code",
   "execution_count": null,
   "metadata": {},
   "outputs": [],
   "source": []
  },
  {
   "cell_type": "markdown",
   "metadata": {},
   "source": [
    "R3:\n",
    "$Y>=2$"
   ]
  },
  {
   "cell_type": "code",
   "execution_count": null,
   "metadata": {},
   "outputs": [],
   "source": []
  },
  {
   "cell_type": "code",
   "execution_count": null,
   "metadata": {},
   "outputs": [],
   "source": []
  },
  {
   "cell_type": "code",
   "execution_count": null,
   "metadata": {},
   "outputs": [],
   "source": []
  },
  {
   "cell_type": "markdown",
   "metadata": {},
   "source": [
    "## HH totales trabajadas por periodo"
   ]
  },
  {
   "cell_type": "code",
   "execution_count": null,
   "metadata": {},
   "outputs": [],
   "source": []
  },
  {
   "cell_type": "code",
   "execution_count": null,
   "metadata": {},
   "outputs": [],
   "source": []
  },
  {
   "cell_type": "markdown",
   "metadata": {},
   "source": [
    "## Uso del terreno"
   ]
  },
  {
   "cell_type": "code",
   "execution_count": null,
   "metadata": {},
   "outputs": [],
   "source": []
  },
  {
   "cell_type": "code",
   "execution_count": null,
   "metadata": {},
   "outputs": [],
   "source": []
  },
  {
   "cell_type": "markdown",
   "metadata": {},
   "source": [
    "## ¿Cuanto Plantar de cada cultivo?"
   ]
  },
  {
   "cell_type": "code",
   "execution_count": null,
   "metadata": {},
   "outputs": [],
   "source": []
  },
  {
   "cell_type": "markdown",
   "metadata": {},
   "source": [
    "# Horas extra contratadas"
   ]
  },
  {
   "cell_type": "code",
   "execution_count": null,
   "metadata": {},
   "outputs": [],
   "source": []
  },
  {
   "cell_type": "code",
   "execution_count": null,
   "metadata": {},
   "outputs": [],
   "source": []
  },
  {
   "cell_type": "markdown",
   "metadata": {},
   "source": [
    "# References\n",
    "Bisschop, J. J., & Roelofs, M. (1999). AIMMS. (AIMMS.) Haarlem: Paragon Decision Technology."
   ]
  }
 ],
 "metadata": {
  "interpreter": {
   "hash": "b3ba2566441a7c06988d0923437866b63cedc61552a5af99d1f4fb67d367b25f"
  },
  "kernelspec": {
   "display_name": "Python 3",
   "language": "python",
   "name": "python3"
  },
  "language_info": {
   "codemirror_mode": {
    "name": "ipython",
    "version": 3
   },
   "file_extension": ".py",
   "mimetype": "text/x-python",
   "name": "python",
   "nbconvert_exporter": "python",
   "pygments_lexer": "ipython3",
   "version": "3.8.8"
  }
 },
 "nbformat": 4,
 "nbformat_minor": 2
}
