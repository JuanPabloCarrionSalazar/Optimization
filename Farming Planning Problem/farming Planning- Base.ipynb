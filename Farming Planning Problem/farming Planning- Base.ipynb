{
 "cells": [
  {
   "cell_type": "markdown",
   "metadata": {},
   "source": [
    "# Farm Planning Problem\n",
    "\n",
    "Las tres principales insumos de la producción agricola son el terreno, la mano de obra y el agua. Sus requerimiento varían a través de los años según las distintas actividades de cultivo desarrolladas en el terreno.\n",
    "\n",
    "La rotación de los cultivos es la práctica de plantar diferentes cultivos secuencialmente en la misma parcela. Esta rotación y su agendamiento en el mundo real requiere del apoyo de un agronomo. Para el modelo se supondrá que el agronomo ya registro que tipos de cultivos se pueden cultivar en cada periodo y cuanto tiempo el cultivo demorá en crecer. \n",
    "\n",
    "El uso de mano de obra varía de año a año y de acuerdo al periodo, ya que existen distintas actividades según el periodo, como pueden ser la preparación del terreno, plantación, mantenimiento y cocecha. Para cada tipo de cultivo existe distintos requerimientos de mano de obra según el periodo.\n",
    "\n",
    "Además de los trabajadores ya disponibles se puede contratar trabajadores permanentes o temporales.\n",
    "\n",
    "Considere que existen 10 hectareas de terreno cultivable.\n",
    "\n",
    "Versión resumida del problema encontrado en [AIMMS Modeling Guide - Farm Planning Problem](https://download.aimms.com/aimms/download/manuals/AIMMS3OM_FarmPlanning.pdf)"
   ]
  },
  {
   "cell_type": "code",
   "execution_count": 1,
   "metadata": {},
   "outputs": [],
   "source": [
    "import pandas as pd\n",
    "import numpy as np\n",
    "from gurobipy import *\n",
    "import matplotlib.pyplot as plt"
   ]
  },
  {
   "cell_type": "markdown",
   "metadata": {},
   "source": [
    "# Subíndices\n",
    "*i*=cultivo\n",
    "\n",
    "*t*=período\n",
    "\n",
    "\n",
    "# Parámetros\n",
    "\n",
    "$TO_{it}$= % de ocupación del terreno en el periodo *t* en caso de cultivarse el cultivo *i*\n",
    "\n",
    "$HHC_{it}$= Horas Humanas requeridas para el cultivo *i* en el periodo *t* \n",
    "\n",
    "$HHDisp_{t}$= Horas Humanas disponibles en el periodo *t* por cada trabajador \n",
    "\n",
    "$ProdHa_{i}$= Toneladas producicas por cada hectarea del cultivo *i*\n",
    "\n",
    "$PTon_{i}$= Precio de mercado por cada tonelada del cultivo *i*\n",
    "\n",
    "*TP*= Trabajadores permanentes mínimos\n",
    "\n",
    "*CHHTemporal*= Costo de la HH de un trabajador temporal"
   ]
  },
  {
   "cell_type": "code",
   "execution_count": 3,
   "metadata": {},
   "outputs": [],
   "source": [
    "cultivo=[\"trigo\",\"legumbres\",\"cebolla\",\"algodon\",\"maiz\",\"tomates\"]\n",
    "periodo=[1,2,3,4,5,6,7,8,9,10,11,12]\n",
    "\n",
    "arcos=[(i,t) for i in cultivo for t in periodo]\n",
    "# % de ocupación del terreno en el periodo t en caso de cultivarse el cultivo i\n",
    "TO={(\"trigo\",1):1,(\"trigo\",2):1,(\"trigo\",3):1,(\"trigo\",4):1,(\"trigo\",5):1,(\"trigo\",6):0,(\"trigo\",7):0,(\"trigo\",8):0,\n",
    "(\"trigo\",9):0,(\"trigo\",10):0,(\"trigo\",11):0.5,(\"trigo\",12):1,(\"legumbres\",1):1,(\"legumbres\",2):1,(\"legumbres\",3):1,\n",
    "(\"legumbres\",4):1,(\"legumbres\",5):0,(\"legumbres\",6):0,(\"legumbres\",7):0,(\"legumbres\",8):0,(\"legumbres\",9):0,(\"legumbres\",10):0,\n",
    "(\"legumbres\",11):0.25,(\"legumbres\",12):1,(\"cebolla\",1):1,(\"cebolla\",2):1,(\"cebolla\",3):1,(\"cebolla\",4):1,(\"cebolla\",5):0.25,\n",
    "(\"cebolla\",6):0,(\"cebolla\",7):0,(\"cebolla\",8):0,(\"cebolla\",9):0,(\"cebolla\",10):0,(\"cebolla\",11):0.5,(\"cebolla\",12):1,\n",
    "(\"algodon\",1):0,(\"algodon\",2):0,(\"algodon\",3):0.5,(\"algodon\",4):1,(\"algodon\",5):1,(\"algodon\",6):1,(\"algodon\",7):1,\n",
    "(\"algodon\",8):1,(\"algodon\",9):1,(\"algodon\",10):1,(\"algodon\",11):0.75,(\"algodon\",12):0,(\"maiz\",1):0,(\"maiz\",2):0,(\"maiz\",3):0,\n",
    "(\"maiz\",4):0, (\"maiz\",5):0.5,(\"maiz\",6):1,(\"maiz\",7):1,(\"maiz\",8):1,(\"maiz\",9):1,(\"maiz\",10):0.5,(\"maiz\",11):0,(\"maiz\",12):0,\n",
    "(\"tomates\",1):0,(\"tomates\",2):0,(\"tomates\",3):0,(\"tomates\",4):0,(\"tomates\",5):0,(\"tomates\",6):0,(\"tomates\",7):0.75,(\"tomates\",8):1,\n",
    "(\"tomates\",9):1,(\"tomates\",10):1,(\"tomates\",11):0.75,(\"tomates\",12):0}\n",
    "\n",
    "#Horas Humanas requeridas para el cultivo *i* en el periodo *t* \n",
    "HHC={(\"trigo\",1):14,(\"trigo\",2):4,(\"trigo\",3):8,(\"trigo\",4):8,(\"trigo\",5):137,(\"trigo\",6):0,(\"trigo\",7):0,(\"trigo\",8):0,\n",
    "(\"trigo\",9):0,(\"trigo\",10):0,(\"trigo\",11):19,(\"trigo\",12):1,(\"legumbres\",1):11,(\"legumbres\",2):6,(\"legumbres\",3):6,\n",
    "(\"legumbres\",4):128,(\"legumbres\",5):0,(\"legumbres\",6):0,(\"legumbres\",7):0,(\"legumbres\",8):0,(\"legumbres\",9):0,(\"legumbres\",10):0,\n",
    "(\"legumbres\",11):60,(\"legumbres\",12):6,(\"cebolla\",1):41,(\"cebolla\",2):40,(\"cebolla\",3):40,(\"cebolla\",4):155,(\"cebolla\",5):19,\n",
    "(\"cebolla\",6):0,(\"cebolla\",7):0,(\"cebolla\",8):0,(\"cebolla\",9):0,(\"cebolla\",10):0,(\"cebolla\",11):89,(\"cebolla\",12):37,\n",
    "(\"algodon\",1):0,(\"algodon\",2):0,(\"algodon\",3):40,(\"algodon\",4):40,(\"algodon\",5):72,(\"algodon\",6):16,(\"algodon\",7):12,\n",
    "(\"algodon\",8):16,(\"algodon\",9):8,(\"algodon\",10):46,(\"algodon\",11):34,(\"algodon\",12):0,(\"maiz\",1):0,(\"maiz\",2):0,(\"maiz\",3):0,\n",
    "(\"maiz\",4):0, (\"maiz\",5):34,(\"maiz\",6):40,(\"maiz\",7):57,(\"maiz\",8):64,(\"maiz\",9):35,(\"maiz\",10):9,(\"maiz\",11):0,(\"maiz\",12):0,\n",
    "(\"tomates\",1):0,(\"tomates\",2):0,(\"tomates\",3):0,(\"tomates\",4):0,(\"tomates\",5):0,(\"tomates\",6):0,(\"tomates\",7):136,(\"tomates\",8):120,\n",
    "(\"tomates\",9):96,(\"tomates\",10):56,(\"tomates\",11):48,(\"tomates\",12):0}\n",
    "\n",
    "#Horas Humanas disponibles en el periodo *t* por cada trabajador Permanente\n",
    "HHdisp={1:160,2:160,3:184,4:176,5:168,6:176,7:176,8:176,9:176,10:168,11:176,12:176}\n",
    "\n",
    "CTP=40000\n",
    "CHHTemporal=4\n",
    "\n",
    "ProdHa={\"trigo\":1.5,\"legumbres\":1,\"cebolla\":6,\"algodon\":1.5,\"maiz\":1.75,\"tomates\":6}\n",
    "PTon={\"trigo\":1500,\"legumbres\":2500,\"cebolla\":1250,\"algodon\":4000,\"maiz\":1200,\"tomates\":1300}"
   ]
  },
  {
   "cell_type": "code",
   "execution_count": 4,
   "metadata": {},
   "outputs": [
    {
     "name": "stdout",
     "output_type": "stream",
     "text": [
      "Academic license - for non-commercial use only - expires 2021-11-29\n",
      "Using license file C:\\Users\\pablo\\gurobi.lic\n"
     ]
    }
   ],
   "source": [
    "m=Model(\"Farm Planning\")"
   ]
  },
  {
   "cell_type": "markdown",
   "metadata": {},
   "source": [
    "# Variables de decisión\n",
    "\n",
    "$X_i$= Número de hectareas plantadas con el cultivo i\n",
    "\n",
    "$Y$= Número de trabajadores permanentes contratados\n",
    "\n",
    "$Ytemp_t$= Número de hh contradas con trabajadores temporales en el período $t$"
   ]
  },
  {
   "cell_type": "code",
   "execution_count": 6,
   "metadata": {},
   "outputs": [],
   "source": [
    "x=m.addVars(cultivo,name='x',vtype=GRB.INTEGER)\n",
    "y=m.addVar(name='y',vtype=GRB.INTEGER)\n",
    "ytemp=m.addVars(periodo,name='ytemp',vtype=GRB.INTEGER)"
   ]
  },
  {
   "cell_type": "markdown",
   "metadata": {},
   "source": [
    "# Función Objetivo\n",
    "\n",
    "$Max Z= \\sum_{i}^I X_i*ProdHa_i*PTon_i -\\sum_{t}^T Ytemp_t*CHHTemporal -Y*CTP $"
   ]
  },
  {
   "cell_type": "code",
   "execution_count": 10,
   "metadata": {},
   "outputs": [],
   "source": [
    "Z=quicksum(x[i]*ProdHa[i]*PTon[i] for i in cultivo)-quicksum(ytemp[t]*CHHTemporal for t in periodo)-y*CTP\n",
    "m.setObjective(Z,GRB.MAXIMIZE)"
   ]
  },
  {
   "cell_type": "markdown",
   "metadata": {},
   "source": [
    "# Restricciones\n",
    "\n",
    "Limite de terreno:\n",
    "\n",
    "$\\sum_{i} TO_{it}*x_i<= 10$\n",
    "\n",
    "Requerimiento de mano de obra\n",
    "\n",
    "$ \\sum_{i}HHC_{it}*x_i<=y*HHdisp_t + ytemp   \\forall t $\n",
    "\n",
    "Número mínimo de trabajadores\n",
    "\n",
    "$Y>=2$\n",
    "\n"
   ]
  },
  {
   "cell_type": "markdown",
   "metadata": {},
   "source": [
    "R1:\n",
    "$\\sum_{i} TO_{it}*x_i<= 10      \\forall t$"
   ]
  },
  {
   "cell_type": "code",
   "execution_count": 11,
   "metadata": {},
   "outputs": [
    {
     "data": {
      "text/plain": [
       "{1: <gurobi.Constr *Awaiting Model Update*>,\n",
       " 2: <gurobi.Constr *Awaiting Model Update*>,\n",
       " 3: <gurobi.Constr *Awaiting Model Update*>,\n",
       " 4: <gurobi.Constr *Awaiting Model Update*>,\n",
       " 5: <gurobi.Constr *Awaiting Model Update*>,\n",
       " 6: <gurobi.Constr *Awaiting Model Update*>,\n",
       " 7: <gurobi.Constr *Awaiting Model Update*>,\n",
       " 8: <gurobi.Constr *Awaiting Model Update*>,\n",
       " 9: <gurobi.Constr *Awaiting Model Update*>,\n",
       " 10: <gurobi.Constr *Awaiting Model Update*>,\n",
       " 11: <gurobi.Constr *Awaiting Model Update*>,\n",
       " 12: <gurobi.Constr *Awaiting Model Update*>}"
      ]
     },
     "execution_count": 11,
     "metadata": {},
     "output_type": "execute_result"
    }
   ],
   "source": [
    "m.addConstrs(quicksum(TO[i,t]*x[i] for i in cultivo)<=10 for t in periodo)"
   ]
  },
  {
   "cell_type": "markdown",
   "metadata": {},
   "source": [
    "R2:\n",
    "$ \\sum_{i}HHC_{it}*x_i<=y*HHdisp_t + ytemp   \\forall t $"
   ]
  },
  {
   "cell_type": "code",
   "execution_count": 14,
   "metadata": {},
   "outputs": [
    {
     "data": {
      "text/plain": [
       "{1: <gurobi.Constr *Awaiting Model Update*>,\n",
       " 2: <gurobi.Constr *Awaiting Model Update*>,\n",
       " 3: <gurobi.Constr *Awaiting Model Update*>,\n",
       " 4: <gurobi.Constr *Awaiting Model Update*>,\n",
       " 5: <gurobi.Constr *Awaiting Model Update*>,\n",
       " 6: <gurobi.Constr *Awaiting Model Update*>,\n",
       " 7: <gurobi.Constr *Awaiting Model Update*>,\n",
       " 8: <gurobi.Constr *Awaiting Model Update*>,\n",
       " 9: <gurobi.Constr *Awaiting Model Update*>,\n",
       " 10: <gurobi.Constr *Awaiting Model Update*>,\n",
       " 11: <gurobi.Constr *Awaiting Model Update*>,\n",
       " 12: <gurobi.Constr *Awaiting Model Update*>}"
      ]
     },
     "execution_count": 14,
     "metadata": {},
     "output_type": "execute_result"
    }
   ],
   "source": [
    "m.addConstrs(quicksum(HHC[i,t]*x[i] for i in cultivo)<=y*HHdisp[t]+ytemp[t] for t in periodo)"
   ]
  },
  {
   "cell_type": "markdown",
   "metadata": {},
   "source": [
    "R3:\n",
    "$Y>=2$"
   ]
  },
  {
   "cell_type": "code",
   "execution_count": 15,
   "metadata": {},
   "outputs": [
    {
     "data": {
      "text/plain": [
       "<gurobi.Constr *Awaiting Model Update*>"
      ]
     },
     "execution_count": 15,
     "metadata": {},
     "output_type": "execute_result"
    }
   ],
   "source": [
    "m.addConstr(y>=2)"
   ]
  },
  {
   "cell_type": "code",
   "execution_count": 16,
   "metadata": {},
   "outputs": [
    {
     "name": "stdout",
     "output_type": "stream",
     "text": [
      "Gurobi Optimizer version 9.1.2 build v9.1.2rc0 (win64)\n",
      "Thread count: 8 physical cores, 16 logical processors, using up to 16 threads\n",
      "Optimize a model with 25 rows, 19 columns and 105 nonzeros\n",
      "Model fingerprint: 0x1bc35077\n",
      "Variable types: 0 continuous, 19 integer (0 binary)\n",
      "Coefficient statistics:\n",
      "  Matrix range     [3e-01, 2e+02]\n",
      "  Objective range  [4e+00, 4e+04]\n",
      "  Bounds range     [0e+00, 0e+00]\n",
      "  RHS range        [2e+00, 1e+01]\n",
      "Found heuristic solution: objective -19564.00000\n",
      "Presolve removed 9 rows and 0 columns\n",
      "Presolve time: 0.03s\n",
      "Presolved: 16 rows, 19 columns, 80 nonzeros\n",
      "Variable types: 0 continuous, 19 integer (0 binary)\n",
      "\n",
      "Root relaxation: objective 3.738400e+04, 11 iterations, 0.01 seconds\n",
      "\n",
      "    Nodes    |    Current Node    |     Objective Bounds      |     Work\n",
      " Expl Unexpl |  Obj  Depth IntInf | Incumbent    BestBd   Gap | It/Node Time\n",
      "\n",
      "     0     0 37384.0000    0    6 -19564.000 37384.0000   291%     -    0s\n",
      "H    0     0                    33136.000000 37384.0000  12.8%     -    0s\n",
      "H    0     0                    34576.000000 37384.0000  8.12%     -    0s\n",
      "\n",
      "Cutting planes:\n",
      "  MIR: 4\n",
      "\n",
      "Explored 1 nodes (11 simplex iterations) in 0.08 seconds\n",
      "Thread count was 16 (of 16 available processors)\n",
      "\n",
      "Solution count 3: 34576 33136 -19564 \n",
      "\n",
      "Optimal solution found (tolerance 1.00e-04)\n",
      "Best objective 3.457600000000e+04, best bound 3.457600000000e+04, gap 0.0000%\n"
     ]
    }
   ],
   "source": [
    "m.optimize()"
   ]
  },
  {
   "cell_type": "code",
   "execution_count": 18,
   "metadata": {},
   "outputs": [
    {
     "name": "stdout",
     "output_type": "stream",
     "text": [
      "Función Objetivo: 34576.0\n",
      "x[legumbres]=1.0\n",
      "x[cebolla]=9.0\n",
      "x[maiz]=3.0\n",
      "x[tomates]=7.0\n",
      "y=2.0\n",
      "ytemp[1]=60.0\n",
      "ytemp[2]=46.0\n",
      "ytemp[4]=1171.0\n",
      "ytemp[7]=771.0\n",
      "ytemp[8]=680.0\n",
      "ytemp[9]=425.0\n",
      "ytemp[10]=83.0\n",
      "ytemp[11]=845.0\n"
     ]
    }
   ],
   "source": [
    "if m.status==2:\n",
    "    print(\"Función Objetivo: \"+str(round(m.objVal,2)))\n",
    "    for v in m.getVars():\n",
    "        if v.x>0:\n",
    "            print(str(v.VarName)+\"=\"+str(v.x))\n",
    "else:\n",
    "    print(\"Solución Infactible\")"
   ]
  },
  {
   "cell_type": "markdown",
   "metadata": {},
   "source": [
    "## HH totales trabajadas por periodo"
   ]
  },
  {
   "cell_type": "code",
   "execution_count": 19,
   "metadata": {},
   "outputs": [
    {
     "data": {
      "text/plain": [
       "[380.0,\n",
       " 366.0,\n",
       " 366.0,\n",
       " 1523.0,\n",
       " 273.0,\n",
       " 120.0,\n",
       " 1123.0,\n",
       " 1032.0,\n",
       " 777.0,\n",
       " 419.0,\n",
       " 1197.0,\n",
       " 339.0]"
      ]
     },
     "execution_count": 19,
     "metadata": {},
     "output_type": "execute_result"
    }
   ],
   "source": [
    "hhtot=[sum(HHC[i,t]*x[i].x for i in cultivo) for t in periodo]\n",
    "hhtot"
   ]
  },
  {
   "cell_type": "code",
   "execution_count": 21,
   "metadata": {},
   "outputs": [
    {
     "data": {
      "text/plain": [
       "<function matplotlib.pyplot.show(close=None, block=None)>"
      ]
     },
     "execution_count": 21,
     "metadata": {},
     "output_type": "execute_result"
    },
    {
     "data": {
      "image/png": "[encoded data removed]",
      "text/plain": [
       "<Figure size 432x288 with 1 Axes>"
      ]
     },
     "metadata": {
      "needs_background": "light"
     },
     "output_type": "display_data"
    }
   ],
   "source": [
    "plt.bar(periodo,hhtot)\n",
    "plt.ylabel(\"Número de HH trabajadas\")\n",
    "plt.xlabel(\"Mes\")\n",
    "plt.title(\"Número de horas trabajadas en el mes\")\n",
    "plt.show"
   ]
  },
  {
   "cell_type": "markdown",
   "metadata": {},
   "source": [
    "## Uso del terreno"
   ]
  },
  {
   "cell_type": "code",
   "execution_count": 23,
   "metadata": {},
   "outputs": [
    {
     "data": {
      "text/plain": [
       "[10.0, 10.0, 10.0, 10.0, 3.75, 3.0, 8.25, 10.0, 10.0, 8.5, 10.0, 10.0]"
      ]
     },
     "execution_count": 23,
     "metadata": {},
     "output_type": "execute_result"
    }
   ],
   "source": [
    "UsoTerreno=[sum(TO[i,t]*x[i].x for i in cultivo) for t in periodo]\n",
    "UsoTerreno\n"
   ]
  },
  {
   "cell_type": "code",
   "execution_count": 24,
   "metadata": {},
   "outputs": [
    {
     "data": {
      "text/plain": [
       "<function matplotlib.pyplot.show(close=None, block=None)>"
      ]
     },
     "execution_count": 24,
     "metadata": {},
     "output_type": "execute_result"
    },
    {
     "data": {
      "image/png": "[encoded data removed]",
      "text/plain": [
       "<Figure size 432x288 with 1 Axes>"
      ]
     },
     "metadata": {
      "needs_background": "light"
     },
     "output_type": "display_data"
    }
   ],
   "source": [
    "plt.bar(periodo,UsoTerreno)\n",
    "plt.ylabel(\"Uso del terreno\")\n",
    "plt.xlabel(\"Mes\")\n",
    "plt.title(\"Uso del terreno por mes\")\n",
    "plt.show"
   ]
  },
  {
   "cell_type": "markdown",
   "metadata": {},
   "source": [
    "## ¿Cuanto Plantar de cada cultivo?"
   ]
  },
  {
   "cell_type": "code",
   "execution_count": 25,
   "metadata": {},
   "outputs": [
    {
     "name": "stdout",
     "output_type": "stream",
     "text": [
      "Se deben plantar 1 hectáreas de legumbres\n",
      "Se deben plantar 9 hectáreas de cebolla\n",
      "Se deben plantar 3 hectáreas de maiz\n",
      "Se deben plantar 7 hectáreas de tomates\n"
     ]
    }
   ],
   "source": [
    "for i in cultivo:\n",
    "    if x[i].x>0:\n",
    "        print(\"Se deben plantar\",str(int(x[i].x)),\"hectáreas de\",i)"
   ]
  },
  {
   "cell_type": "markdown",
   "metadata": {},
   "source": [
    "# Horas extra contratadas"
   ]
  },
  {
   "cell_type": "code",
   "execution_count": 28,
   "metadata": {},
   "outputs": [
    {
     "data": {
      "text/plain": [
       "[60, 46, 0, 1171, 0, 0, 771, 680, 425, 83, 845, 0]"
      ]
     },
     "execution_count": 28,
     "metadata": {},
     "output_type": "execute_result"
    }
   ],
   "source": [
    "hhcont=[int(ytemp[t].x) for t in periodo]\n",
    "hhcont"
   ]
  },
  {
   "cell_type": "code",
   "execution_count": 29,
   "metadata": {},
   "outputs": [
    {
     "data": {
      "text/plain": [
       "<function matplotlib.pyplot.show(close=None, block=None)>"
      ]
     },
     "execution_count": 29,
     "metadata": {},
     "output_type": "execute_result"
    },
    {
     "data": {
      "image/png": "[encoded data removed]",
      "text/plain": [
       "<Figure size 432x288 with 1 Axes>"
      ]
     },
     "metadata": {
      "needs_background": "light"
     },
     "output_type": "display_data"
    }
   ],
   "source": [
    "plt.bar(periodo,hhcont)\n",
    "plt.ylabel(\"Horas contratadas a trabajadores temporales\")\n",
    "plt.xlabel(\"Mes\")\n",
    "plt.title(\"HH temporales por mes\")\n",
    "plt.show"
   ]
  },
  {
   "cell_type": "code",
   "execution_count": 30,
   "metadata": {},
   "outputs": [
    {
     "name": "stdout",
     "output_type": "stream",
     "text": [
      "Se deben contratar 60 Horas con trabajadores temporales en el período 1\n",
      "Se deben contratar 46 Horas con trabajadores temporales en el período 2\n",
      "Se deben contratar 1171 Horas con trabajadores temporales en el período 4\n",
      "Se deben contratar 771 Horas con trabajadores temporales en el período 7\n",
      "Se deben contratar 680 Horas con trabajadores temporales en el período 8\n",
      "Se deben contratar 425 Horas con trabajadores temporales en el período 9\n",
      "Se deben contratar 83 Horas con trabajadores temporales en el período 10\n",
      "Se deben contratar 845 Horas con trabajadores temporales en el período 11\n"
     ]
    }
   ],
   "source": [
    "for t in periodo:\n",
    "    if ytemp[t].x>0:\n",
    "        print(\"Se deben contratar\",str(int(ytemp[t].x)),\"Horas con trabajadores temporales en el período\",t)"
   ]
  },
  {
   "cell_type": "markdown",
   "metadata": {},
   "source": [
    "# References\n",
    "Bisschop, J. J., & Roelofs, M. (1999). AIMMS. (AIMMS.) Haarlem: Paragon Decision Technology."
   ]
  }
 ],
 "metadata": {
  "interpreter": {
   "hash": "b3ba2566441a7c06988d0923437866b63cedc61552a5af99d1f4fb67d367b25f"
  },
  "kernelspec": {
   "display_name": "Python 3",
   "language": "python",
   "name": "python3"
  },
  "language_info": {
   "codemirror_mode": {
    "name": "ipython",
    "version": 3
   },
   "file_extension": ".py",
   "mimetype": "text/x-python",
   "name": "python",
   "nbconvert_exporter": "python",
   "pygments_lexer": "ipython3",
   "version": "3.8.8"
  }
 },
 "nbformat": 4,
 "nbformat_minor": 2
}
