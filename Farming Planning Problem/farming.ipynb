{
 "cells": [
  {
   "cell_type": "markdown",
   "source": [
    "# Farm Planning Problem\r\n",
    "\r\n",
    "Las tres principales insumos de la producción agricola son el terreno, la mano de obra y el agua. Sus requerimiento varían a través de los años según las distintas actividades de cultivo desarrolladas en el terreno.\r\n",
    "\r\n",
    "La rotación de los cultivos es la práctica de plantar diferentes cultivos secuencialmente en la misma parcela. Esta rotación y su agendamiento en el mundo real requiere del apoyo de un agronomo. Para el modelo se supondrá que el agronomo ya registro que tipos de cultivos se pueden cultivar en cada periodo y cuanto tiempo el cultivo demorá en crecer. \r\n",
    "\r\n",
    "El uso de mano de obra varía de año a año y de acuerdo al periodo, ya que existen distintas actividades según el periodo, como pueden ser la preparación del terreno, plantación, mantenimiento y cocecha. Para cada tipo de cultivo existe distintos requerimientos de mano de obra según el periodo.\r\n",
    "\r\n",
    "Además de los trabajadores ya disponibles se puede contratar trabajadores permanentes o temporales.\r\n",
    "\r\n",
    "Considere que existen 10 hectareas de terreno cultivable.\r\n",
    "\r\n",
    "Versión resumida del problema encontrado en [AIMMS Modeling Guide - Farm Planning Problem](https://download.aimms.com/aimms/download/manuals/AIMMS3OM_FarmPlanning.pdf)"
   ],
   "metadata": {}
  },
  {
   "cell_type": "code",
   "execution_count": 2,
   "source": [
    "import pandas as pd\r\n",
    "import numpy as np\r\n",
    "from gurobipy import *\r\n",
    "import matplotlib.pyplot as plt"
   ],
   "outputs": [],
   "metadata": {}
  },
  {
   "cell_type": "markdown",
   "source": [
    "# Subíndices\r\n",
    "*i*=cultivo\r\n",
    "\r\n",
    "*t*=período\r\n",
    "\r\n",
    "\r\n",
    "# Parámetros\r\n",
    "\r\n",
    "$TO_{it}$= % de ocupación del terreno en el periodo *t* en caso de cultivarse el cultivo *i*\r\n",
    "\r\n",
    "$HHC_{it}$= Horas Humanas requeridas para el cultivo *i* en el periodo *t* \r\n",
    "\r\n",
    "$HHDisp_{t}$= Horas Humanas disponibles en el periodo *t* por cada trabajador \r\n",
    "\r\n",
    "$ProdHa_{i}$= Toneladas producicas por cada hectarea del cultivo *i*\r\n",
    "\r\n",
    "$PTon_{i}$= Precio de mercado por cada tonelada del cultivo *i*\r\n",
    "\r\n",
    "*TP*= Trabajadores permanentes mínimos\r\n",
    "\r\n",
    "*CHHTemporal*= Costo de la HH de un trabajador temporal"
   ],
   "metadata": {}
  },
  {
   "cell_type": "code",
   "execution_count": 3,
   "source": [
    "cultivo=[\"trigo\",\"legumbres\",\"cebolla\",\"algodon\",\"maiz\",\"tomates\"]\r\n",
    "periodo=[1,2,3,4,5,6,7,8,9,10,11,12]\r\n",
    "\r\n",
    "arcos=[(i,t) for i in cultivo for t in periodo]\r\n",
    "# % de ocupación del terreno en el periodo t en caso de cultivarse el cultivo i\r\n",
    "TO={(\"trigo\",1):1,(\"trigo\",2):1,(\"trigo\",3):1,(\"trigo\",4):1,(\"trigo\",5):1,(\"trigo\",6):0,(\"trigo\",7):0,(\"trigo\",8):0,\r\n",
    "(\"trigo\",9):0,(\"trigo\",10):0,(\"trigo\",11):0.5,(\"trigo\",12):1,(\"legumbres\",1):1,(\"legumbres\",2):1,(\"legumbres\",3):1,\r\n",
    "(\"legumbres\",4):1,(\"legumbres\",5):0,(\"legumbres\",6):0,(\"legumbres\",7):0,(\"legumbres\",8):0,(\"legumbres\",9):0,(\"legumbres\",10):0,\r\n",
    "(\"legumbres\",11):0.25,(\"legumbres\",12):1,(\"cebolla\",1):1,(\"cebolla\",2):1,(\"cebolla\",3):1,(\"cebolla\",4):1,(\"cebolla\",5):0.25,\r\n",
    "(\"cebolla\",6):0,(\"cebolla\",7):0,(\"cebolla\",8):0,(\"cebolla\",9):0,(\"cebolla\",10):0,(\"cebolla\",11):0.5,(\"cebolla\",12):1,\r\n",
    "(\"algodon\",1):0,(\"algodon\",2):0,(\"algodon\",3):0.5,(\"algodon\",4):1,(\"algodon\",5):1,(\"algodon\",6):1,(\"algodon\",7):1,\r\n",
    "(\"algodon\",8):1,(\"algodon\",9):1,(\"algodon\",10):1,(\"algodon\",11):0.75,(\"algodon\",12):0,(\"maiz\",1):0,(\"maiz\",2):0,(\"maiz\",3):0,\r\n",
    "(\"maiz\",4):0, (\"maiz\",5):0.5,(\"maiz\",6):1,(\"maiz\",7):1,(\"maiz\",8):1,(\"maiz\",9):1,(\"maiz\",10):0.5,(\"maiz\",11):0,(\"maiz\",12):0,\r\n",
    "(\"tomates\",1):0,(\"tomates\",2):0,(\"tomates\",3):0,(\"tomates\",4):0,(\"tomates\",5):0,(\"tomates\",6):0,(\"tomates\",7):0.75,(\"tomates\",8):1,\r\n",
    "(\"tomates\",9):1,(\"tomates\",10):1,(\"tomates\",11):0.75,(\"tomates\",12):0}\r\n",
    "\r\n",
    "#Horas Humanas requeridas para el cultivo *i* en el periodo *t* \r\n",
    "HHC={(\"trigo\",1):14,(\"trigo\",2):4,(\"trigo\",3):8,(\"trigo\",4):8,(\"trigo\",5):137,(\"trigo\",6):0,(\"trigo\",7):0,(\"trigo\",8):0,\r\n",
    "(\"trigo\",9):0,(\"trigo\",10):0,(\"trigo\",11):19,(\"trigo\",12):1,(\"legumbres\",1):11,(\"legumbres\",2):6,(\"legumbres\",3):6,\r\n",
    "(\"legumbres\",4):128,(\"legumbres\",5):0,(\"legumbres\",6):0,(\"legumbres\",7):0,(\"legumbres\",8):0,(\"legumbres\",9):0,(\"legumbres\",10):0,\r\n",
    "(\"legumbres\",11):60,(\"legumbres\",12):6,(\"cebolla\",1):41,(\"cebolla\",2):40,(\"cebolla\",3):40,(\"cebolla\",4):155,(\"cebolla\",5):19,\r\n",
    "(\"cebolla\",6):0,(\"cebolla\",7):0,(\"cebolla\",8):0,(\"cebolla\",9):0,(\"cebolla\",10):0,(\"cebolla\",11):89,(\"cebolla\",12):37,\r\n",
    "(\"algodon\",1):0,(\"algodon\",2):0,(\"algodon\",3):40,(\"algodon\",4):40,(\"algodon\",5):72,(\"algodon\",6):16,(\"algodon\",7):12,\r\n",
    "(\"algodon\",8):16,(\"algodon\",9):8,(\"algodon\",10):46,(\"algodon\",11):34,(\"algodon\",12):0,(\"maiz\",1):0,(\"maiz\",2):0,(\"maiz\",3):0,\r\n",
    "(\"maiz\",4):0, (\"maiz\",5):34,(\"maiz\",6):40,(\"maiz\",7):57,(\"maiz\",8):64,(\"maiz\",9):35,(\"maiz\",10):9,(\"maiz\",11):0,(\"maiz\",12):0,\r\n",
    "(\"tomates\",1):0,(\"tomates\",2):0,(\"tomates\",3):0,(\"tomates\",4):0,(\"tomates\",5):0,(\"tomates\",6):0,(\"tomates\",7):136,(\"tomates\",8):120,\r\n",
    "(\"tomates\",9):96,(\"tomates\",10):56,(\"tomates\",11):48,(\"tomates\",12):0}\r\n",
    "\r\n",
    "#Horas Humanas disponibles en el periodo *t* por cada trabajador Permanente\r\n",
    "HHdisp={1:160,2:160,3:184,4:176,5:168,6:176,7:176,8:176,9:176,10:168,11:176,12:176}\r\n",
    "\r\n",
    "CTP=40000\r\n",
    "CHHTemporal=4\r\n",
    "\r\n",
    "ProdHa={\"trigo\":1.5,\"legumbres\":1,\"cebolla\":6,\"algodon\":1.5,\"maiz\":1.75,\"tomates\":6}\r\n",
    "PTon={\"trigo\":1500,\"legumbres\":2500,\"cebolla\":1250,\"algodon\":4000,\"maiz\":1200,\"tomates\":1300}"
   ],
   "outputs": [],
   "metadata": {}
  },
  {
   "cell_type": "code",
   "execution_count": 4,
   "source": [
    "m=Model(\"Farming Planning\")"
   ],
   "outputs": [
    {
     "output_type": "stream",
     "name": "stdout",
     "text": [
      "Academic license - for non-commercial use only - expires 2021-11-29\n",
      "Using license file C:\\Users\\pablo\\gurobi.lic\n"
     ]
    }
   ],
   "metadata": {}
  },
  {
   "cell_type": "markdown",
   "source": [
    "# Variables de decisión\r\n",
    "\r\n",
    "$X_i$= Número de hectareas plantadas con el cultivo i\r\n",
    "\r\n",
    "$Y$= Número de trabajadores permanentes contratados\r\n",
    "\r\n",
    "$Ytemp_t$= Número de hh contradas con trabajadores temporales en el período $t$"
   ],
   "metadata": {}
  },
  {
   "cell_type": "code",
   "execution_count": 5,
   "source": [
    "x=m.addVars(cultivo, name='x',vtype=GRB.INTEGER)\r\n",
    "y=m.addVar(name='y',vtype=GRB.INTEGER)\r\n",
    "ytemp=m.addVars(periodo,name='ytemp',vtype=GRB.INTEGER)"
   ],
   "outputs": [],
   "metadata": {}
  },
  {
   "cell_type": "markdown",
   "source": [
    "# Función Objetivo\r\n",
    "\r\n",
    "$Max Z= \\sum_{i}^I X_i*ProdHa_i*PTon_i -\\sum_{t}^T Ytemp*CHHTemporal -Y*CTP $"
   ],
   "metadata": {}
  },
  {
   "cell_type": "code",
   "execution_count": 6,
   "source": [
    "z=quicksum(x[i]*ProdHa[i]*PTon[i] for i in cultivo)-quicksum(ytemp[t]*CHHTemporal for t in periodo)- y*CTP\r\n",
    "m.setObjective(z,GRB.MAXIMIZE)"
   ],
   "outputs": [],
   "metadata": {}
  },
  {
   "cell_type": "markdown",
   "source": [
    "# Restricciones\r\n",
    "\r\n",
    "Limite de terreno:\r\n",
    "\r\n",
    "$\\sum_{i} TO_{it}*x_i<= 10$\r\n",
    "\r\n",
    "Requerimiento de mano de obra\r\n",
    "\r\n",
    "$ \\sum_{i}HHC_{it}*x_i<=y*HHdisp_t + ytemp   \\forall t $\r\n",
    "\r\n",
    "Número mínimo de trabajadores\r\n",
    "\r\n",
    "$Y>=2$\r\n",
    "\r\n"
   ],
   "metadata": {}
  },
  {
   "cell_type": "markdown",
   "source": [
    "R1:\r\n",
    "$\\sum_{i} TO_{it}*x_i<= 10      \\forall t$"
   ],
   "metadata": {}
  },
  {
   "cell_type": "code",
   "execution_count": 7,
   "source": [
    "m.addConstrs(quicksum(x[i]*TO[i,t] for i in cultivo)<=10  for t in periodo)"
   ],
   "outputs": [
    {
     "output_type": "execute_result",
     "data": {
      "text/plain": [
       "{1: <gurobi.Constr *Awaiting Model Update*>,\n",
       " 2: <gurobi.Constr *Awaiting Model Update*>,\n",
       " 3: <gurobi.Constr *Awaiting Model Update*>,\n",
       " 4: <gurobi.Constr *Awaiting Model Update*>,\n",
       " 5: <gurobi.Constr *Awaiting Model Update*>,\n",
       " 6: <gurobi.Constr *Awaiting Model Update*>,\n",
       " 7: <gurobi.Constr *Awaiting Model Update*>,\n",
       " 8: <gurobi.Constr *Awaiting Model Update*>,\n",
       " 9: <gurobi.Constr *Awaiting Model Update*>,\n",
       " 10: <gurobi.Constr *Awaiting Model Update*>,\n",
       " 11: <gurobi.Constr *Awaiting Model Update*>,\n",
       " 12: <gurobi.Constr *Awaiting Model Update*>}"
      ]
     },
     "metadata": {},
     "execution_count": 7
    }
   ],
   "metadata": {}
  },
  {
   "cell_type": "markdown",
   "source": [
    "R2:\r\n",
    "$ \\sum_{i}HHC_{it}*x_i<=y*HHdisp_t + ytemp   \\forall t $"
   ],
   "metadata": {}
  },
  {
   "cell_type": "code",
   "execution_count": 8,
   "source": [
    "m.addConstrs(quicksum(x[i]*HHC[i,t] for i in cultivo)<=y*HHdisp[t]+ytemp[t]  for t in periodo)"
   ],
   "outputs": [
    {
     "output_type": "execute_result",
     "data": {
      "text/plain": [
       "{1: <gurobi.Constr *Awaiting Model Update*>,\n",
       " 2: <gurobi.Constr *Awaiting Model Update*>,\n",
       " 3: <gurobi.Constr *Awaiting Model Update*>,\n",
       " 4: <gurobi.Constr *Awaiting Model Update*>,\n",
       " 5: <gurobi.Constr *Awaiting Model Update*>,\n",
       " 6: <gurobi.Constr *Awaiting Model Update*>,\n",
       " 7: <gurobi.Constr *Awaiting Model Update*>,\n",
       " 8: <gurobi.Constr *Awaiting Model Update*>,\n",
       " 9: <gurobi.Constr *Awaiting Model Update*>,\n",
       " 10: <gurobi.Constr *Awaiting Model Update*>,\n",
       " 11: <gurobi.Constr *Awaiting Model Update*>,\n",
       " 12: <gurobi.Constr *Awaiting Model Update*>}"
      ]
     },
     "metadata": {},
     "execution_count": 8
    }
   ],
   "metadata": {}
  },
  {
   "cell_type": "markdown",
   "source": [
    "R3:\r\n",
    "$Y>=2$"
   ],
   "metadata": {}
  },
  {
   "cell_type": "code",
   "execution_count": 9,
   "source": [
    "m.addConstr(y>=2)"
   ],
   "outputs": [
    {
     "output_type": "execute_result",
     "data": {
      "text/plain": [
       "<gurobi.Constr *Awaiting Model Update*>"
      ]
     },
     "metadata": {},
     "execution_count": 9
    }
   ],
   "metadata": {}
  },
  {
   "cell_type": "code",
   "execution_count": 10,
   "source": [
    "m.optimize()"
   ],
   "outputs": [
    {
     "output_type": "stream",
     "name": "stdout",
     "text": [
      "Gurobi Optimizer version 9.1.2 build v9.1.2rc0 (win64)\n",
      "Thread count: 8 physical cores, 16 logical processors, using up to 16 threads\n",
      "Optimize a model with 25 rows, 19 columns and 105 nonzeros\n",
      "Model fingerprint: 0x1bc35077\n",
      "Variable types: 0 continuous, 19 integer (0 binary)\n",
      "Coefficient statistics:\n",
      "  Matrix range     [3e-01, 2e+02]\n",
      "  Objective range  [4e+00, 4e+04]\n",
      "  Bounds range     [0e+00, 0e+00]\n",
      "  RHS range        [2e+00, 1e+01]\n",
      "Found heuristic solution: objective -19564.00000\n",
      "Presolve removed 9 rows and 0 columns\n",
      "Presolve time: 0.02s\n",
      "Presolved: 16 rows, 19 columns, 80 nonzeros\n",
      "Variable types: 0 continuous, 19 integer (0 binary)\n",
      "\n",
      "Root relaxation: objective 3.738400e+04, 11 iterations, 0.01 seconds\n",
      "\n",
      "    Nodes    |    Current Node    |     Objective Bounds      |     Work\n",
      " Expl Unexpl |  Obj  Depth IntInf | Incumbent    BestBd   Gap | It/Node Time\n",
      "\n",
      "     0     0 37384.0000    0    6 -19564.000 37384.0000   291%     -    0s\n",
      "H    0     0                    33136.000000 37384.0000  12.8%     -    0s\n",
      "H    0     0                    34576.000000 37384.0000  8.12%     -    0s\n",
      "\n",
      "Cutting planes:\n",
      "  MIR: 4\n",
      "\n",
      "Explored 1 nodes (11 simplex iterations) in 0.07 seconds\n",
      "Thread count was 16 (of 16 available processors)\n",
      "\n",
      "Solution count 3: 34576 33136 -19564 \n",
      "\n",
      "Optimal solution found (tolerance 1.00e-04)\n",
      "Best objective 3.457600000000e+04, best bound 3.457600000000e+04, gap 0.0000%\n"
     ]
    }
   ],
   "metadata": {}
  },
  {
   "cell_type": "code",
   "execution_count": 11,
   "source": [
    "#Estado de la solución\r\n",
    "if m.status==2:\r\n",
    "    print(\"Función Objetivo: \",str(round(m.objVal,2)))\r\n",
    "    for v in m.getVars():\r\n",
    "        if v.x>0:\r\n",
    "            print(str(v.VarName)+\"=\"+str(round(v.x,2)))\r\n",
    "else:\r\n",
    "    print(\"Solución Infactible\")"
   ],
   "outputs": [
    {
     "output_type": "stream",
     "name": "stdout",
     "text": [
      "Función Objetivo:  34576.0\n",
      "x[legumbres]=1.0\n",
      "x[cebolla]=9.0\n",
      "x[maiz]=3.0\n",
      "x[tomates]=7.0\n",
      "y=2.0\n",
      "ytemp[1]=60.0\n",
      "ytemp[2]=46.0\n",
      "ytemp[4]=1171.0\n",
      "ytemp[7]=771.0\n",
      "ytemp[8]=680.0\n",
      "ytemp[9]=425.0\n",
      "ytemp[10]=83.0\n",
      "ytemp[11]=845.0\n"
     ]
    }
   ],
   "metadata": {}
  },
  {
   "cell_type": "markdown",
   "source": [
    "## HH totales trabajadas por periodo"
   ],
   "metadata": {}
  },
  {
   "cell_type": "code",
   "execution_count": 18,
   "source": [
    "hhtot=[sum(x[i].x*HHC[i,t] for i in cultivo) for t in periodo]\r\n",
    "hhtot"
   ],
   "outputs": [
    {
     "output_type": "execute_result",
     "data": {
      "text/plain": [
       "[380.0,\n",
       " 366.0,\n",
       " 366.0,\n",
       " 1523.0,\n",
       " 273.0,\n",
       " 120.0,\n",
       " 1123.0,\n",
       " 1032.0,\n",
       " 777.0,\n",
       " 419.0,\n",
       " 1197.0,\n",
       " 339.0]"
      ]
     },
     "metadata": {},
     "execution_count": 18
    }
   ],
   "metadata": {}
  },
  {
   "cell_type": "code",
   "execution_count": 19,
   "source": [
    "plt.bar(periodo, hhtot)\r\n",
    " \r\n",
    "## Legenda en el eje y\r\n",
    "plt.ylabel('Número de HH trabajadas')\r\n",
    " \r\n",
    "## Legenda en el eje x\r\n",
    "plt.xlabel('Periodo')\r\n",
    " \r\n",
    "## Título de Gráfica\r\n",
    "plt.title('Número de horas trabajadas por período')\r\n",
    " \r\n",
    "## Mostramos Gráfica\r\n",
    "plt.show()"
   ],
   "outputs": [
    {
     "output_type": "display_data",
     "data": {
      "image/png": "[encoded data removed]",
      "text/plain": [
       "<Figure size 432x288 with 1 Axes>"
      ]
     },
     "metadata": {
      "needs_background": "light"
     }
    }
   ],
   "metadata": {}
  },
  {
   "cell_type": "markdown",
   "source": [
    "## Uso del terreno"
   ],
   "metadata": {}
  },
  {
   "cell_type": "code",
   "execution_count": 20,
   "source": [
    "UsoTerreno=[sum(x[i].x*TO[i,t] for i in cultivo) for t in periodo]\r\n",
    "UsoTerreno"
   ],
   "outputs": [
    {
     "output_type": "execute_result",
     "data": {
      "text/plain": [
       "[10.0, 10.0, 10.0, 10.0, 3.75, 3.0, 8.25, 10.0, 10.0, 8.5, 10.0, 10.0]"
      ]
     },
     "metadata": {},
     "execution_count": 20
    }
   ],
   "metadata": {}
  },
  {
   "cell_type": "code",
   "execution_count": 21,
   "source": [
    "plt.bar(periodo, UsoTerreno)\r\n",
    " \r\n",
    "## Legenda en el eje y\r\n",
    "plt.ylabel('Uso del terreno')\r\n",
    " \r\n",
    "## Legenda en el eje x\r\n",
    "plt.xlabel('Periodo')\r\n",
    " \r\n",
    "## Título de Gráfica\r\n",
    "plt.title('Uso del terreno por período')\r\n",
    " \r\n",
    "## Mostramos Gráfica\r\n",
    "plt.show()"
   ],
   "outputs": [
    {
     "output_type": "display_data",
     "data": {
      "image/png": "[encoded data removed]",
      "text/plain": [
       "<Figure size 432x288 with 1 Axes>"
      ]
     },
     "metadata": {
      "needs_background": "light"
     }
    }
   ],
   "metadata": {}
  },
  {
   "cell_type": "markdown",
   "source": [
    "## ¿Cuanto Plantar de cada cultivo?"
   ],
   "metadata": {}
  },
  {
   "cell_type": "code",
   "execution_count": 26,
   "source": [
    "for i in cultivo:\r\n",
    "    if x[i].x>0:\r\n",
    "        print(\" Se deben plantar\",str(int(x[i].x)),\"hectareas de\",i)"
   ],
   "outputs": [
    {
     "output_type": "stream",
     "name": "stdout",
     "text": [
      " Se deben plantar 1 hectareas de legumbres\n",
      " Se deben plantar 9 hectareas de cebolla\n",
      " Se deben plantar 3 hectareas de maiz\n",
      " Se deben plantar 7 hectareas de tomates\n"
     ]
    }
   ],
   "metadata": {}
  },
  {
   "cell_type": "markdown",
   "source": [
    "# Horas extra contratadas"
   ],
   "metadata": {}
  },
  {
   "cell_type": "code",
   "execution_count": 27,
   "source": [
    "plt.bar(periodo, [ytemp[t].x for t in periodo])\r\n",
    " \r\n",
    "## Legenda en el eje y\r\n",
    "plt.ylabel('Uso del terreno')\r\n",
    " \r\n",
    "## Legenda en el eje x\r\n",
    "plt.xlabel('Periodo')\r\n",
    " \r\n",
    "## Título de Gráfica\r\n",
    "plt.title('Uso del terreno por período')\r\n",
    " \r\n",
    "## Mostramos Gráfica\r\n",
    "plt.show()"
   ],
   "outputs": [
    {
     "output_type": "display_data",
     "data": {
      "image/png": "[encoded data removed]",
      "text/plain": [
       "<Figure size 432x288 with 1 Axes>"
      ]
     },
     "metadata": {
      "needs_background": "light"
     }
    }
   ],
   "metadata": {}
  },
  {
   "cell_type": "code",
   "execution_count": 29,
   "source": [
    "for t in periodo:\r\n",
    "    if ytemp[t].x >0:\r\n",
    "        print(\"Se deben contratar\",int( ytemp[t].x),\"horas con trabajadores temporales en el período\",t)"
   ],
   "outputs": [
    {
     "output_type": "stream",
     "name": "stdout",
     "text": [
      "Se deben contratar 60 horas con trabajadores temporales en el período 1\n",
      "Se deben contratar 46 horas con trabajadores temporales en el período 2\n",
      "Se deben contratar 1171 horas con trabajadores temporales en el período 4\n",
      "Se deben contratar 771 horas con trabajadores temporales en el período 7\n",
      "Se deben contratar 680 horas con trabajadores temporales en el período 8\n",
      "Se deben contratar 425 horas con trabajadores temporales en el período 9\n",
      "Se deben contratar 83 horas con trabajadores temporales en el período 10\n",
      "Se deben contratar 845 horas con trabajadores temporales en el período 11\n"
     ]
    }
   ],
   "metadata": {}
  },
  {
   "cell_type": "markdown",
   "source": [
    "# References\r\n",
    "Bisschop, J. J., & Roelofs, M. (1999). AIMMS. (AIMMS.) Haarlem: Paragon Decision Technology."
   ],
   "metadata": {}
  }
 ],
 "metadata": {
  "orig_nbformat": 4,
  "language_info": {
   "name": "python",
   "version": "3.8.8",
   "mimetype": "text/x-python",
   "codemirror_mode": {
    "name": "ipython",
    "version": 3
   },
   "pygments_lexer": "ipython3",
   "nbconvert_exporter": "python",
   "file_extension": ".py"
  },
  "kernelspec": {
   "name": "python3",
   "display_name": "Python 3.8.8 64-bit ('base': conda)"
  },
  "interpreter": {
   "hash": "b3ba2566441a7c06988d0923437866b63cedc61552a5af99d1f4fb67d367b25f"
  }
 },
 "nbformat": 4,
 "nbformat_minor": 2
}